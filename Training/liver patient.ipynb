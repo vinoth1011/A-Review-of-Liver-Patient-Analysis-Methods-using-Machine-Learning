{
  "nbformat": 4,
  "nbformat_minor": 0,
  "metadata": {
    "colab": {
      "provenance": []
    },
    "kernelspec": {
      "name": "python3",
      "display_name": "Python 3"
    },
    "language_info": {
      "name": "python"
    }
  },
  "cells": [
    {
      "cell_type": "code",
      "source": [
        "#importing Libraries"
      ],
      "metadata": {
        "id": "Z9Gq86StQUxp"
      },
      "execution_count": null,
      "outputs": []
    },
    {
      "cell_type": "code",
      "execution_count": null,
      "metadata": {
        "id": "fMR_rP5oOaUe"
      },
      "outputs": [],
      "source": [
        "import pandas as pd\n",
        "import numpy as np\n",
        "import seaborn as sns\n",
        "import matplotlib.pyplot as plt\n",
        "from matplotlib import rcParams\n",
        "from scipy import stats\n",
        "import warnings\n",
        "warnings.filterwarnings('ignore')\n",
        "from sklearn.tree import DecisionTreeClassifier\n",
        "from sklearn.ensemble import RandomForestClassifier\n",
        "from sklearn.model_selection import train_test_split\n",
        "from sklearn.metrics import classification_report,confusion_matrix"
      ]
    },
    {
      "cell_type": "code",
      "source": [
        "from google.colab import files\n",
        "uploaded = files.upload()"
      ],
      "metadata": {
        "id": "H1lNTWAQP8OT",
        "outputId": "3abf1110-8955-4d1e-974e-1b55051e9816",
        "colab": {
          "base_uri": "https://localhost:8080/",
          "height": 73
        }
      },
      "execution_count": null,
      "outputs": [
        {
          "output_type": "display_data",
          "data": {
            "text/plain": [
              "<IPython.core.display.HTML object>"
            ],
            "text/html": [
              "\n",
              "     <input type=\"file\" id=\"files-f2943e8f-7f3c-4311-9661-e38cfe19f19b\" name=\"files[]\" multiple disabled\n",
              "        style=\"border:none\" />\n",
              "     <output id=\"result-f2943e8f-7f3c-4311-9661-e38cfe19f19b\">\n",
              "      Upload widget is only available when the cell has been executed in the\n",
              "      current browser session. Please rerun this cell to enable.\n",
              "      </output>\n",
              "      <script>// Copyright 2017 Google LLC\n",
              "//\n",
              "// Licensed under the Apache License, Version 2.0 (the \"License\");\n",
              "// you may not use this file except in compliance with the License.\n",
              "// You may obtain a copy of the License at\n",
              "//\n",
              "//      http://www.apache.org/licenses/LICENSE-2.0\n",
              "//\n",
              "// Unless required by applicable law or agreed to in writing, software\n",
              "// distributed under the License is distributed on an \"AS IS\" BASIS,\n",
              "// WITHOUT WARRANTIES OR CONDITIONS OF ANY KIND, either express or implied.\n",
              "// See the License for the specific language governing permissions and\n",
              "// limitations under the License.\n",
              "\n",
              "/**\n",
              " * @fileoverview Helpers for google.colab Python module.\n",
              " */\n",
              "(function(scope) {\n",
              "function span(text, styleAttributes = {}) {\n",
              "  const element = document.createElement('span');\n",
              "  element.textContent = text;\n",
              "  for (const key of Object.keys(styleAttributes)) {\n",
              "    element.style[key] = styleAttributes[key];\n",
              "  }\n",
              "  return element;\n",
              "}\n",
              "\n",
              "// Max number of bytes which will be uploaded at a time.\n",
              "const MAX_PAYLOAD_SIZE = 100 * 1024;\n",
              "\n",
              "function _uploadFiles(inputId, outputId) {\n",
              "  const steps = uploadFilesStep(inputId, outputId);\n",
              "  const outputElement = document.getElementById(outputId);\n",
              "  // Cache steps on the outputElement to make it available for the next call\n",
              "  // to uploadFilesContinue from Python.\n",
              "  outputElement.steps = steps;\n",
              "\n",
              "  return _uploadFilesContinue(outputId);\n",
              "}\n",
              "\n",
              "// This is roughly an async generator (not supported in the browser yet),\n",
              "// where there are multiple asynchronous steps and the Python side is going\n",
              "// to poll for completion of each step.\n",
              "// This uses a Promise to block the python side on completion of each step,\n",
              "// then passes the result of the previous step as the input to the next step.\n",
              "function _uploadFilesContinue(outputId) {\n",
              "  const outputElement = document.getElementById(outputId);\n",
              "  const steps = outputElement.steps;\n",
              "\n",
              "  const next = steps.next(outputElement.lastPromiseValue);\n",
              "  return Promise.resolve(next.value.promise).then((value) => {\n",
              "    // Cache the last promise value to make it available to the next\n",
              "    // step of the generator.\n",
              "    outputElement.lastPromiseValue = value;\n",
              "    return next.value.response;\n",
              "  });\n",
              "}\n",
              "\n",
              "/**\n",
              " * Generator function which is called between each async step of the upload\n",
              " * process.\n",
              " * @param {string} inputId Element ID of the input file picker element.\n",
              " * @param {string} outputId Element ID of the output display.\n",
              " * @return {!Iterable<!Object>} Iterable of next steps.\n",
              " */\n",
              "function* uploadFilesStep(inputId, outputId) {\n",
              "  const inputElement = document.getElementById(inputId);\n",
              "  inputElement.disabled = false;\n",
              "\n",
              "  const outputElement = document.getElementById(outputId);\n",
              "  outputElement.innerHTML = '';\n",
              "\n",
              "  const pickedPromise = new Promise((resolve) => {\n",
              "    inputElement.addEventListener('change', (e) => {\n",
              "      resolve(e.target.files);\n",
              "    });\n",
              "  });\n",
              "\n",
              "  const cancel = document.createElement('button');\n",
              "  inputElement.parentElement.appendChild(cancel);\n",
              "  cancel.textContent = 'Cancel upload';\n",
              "  const cancelPromise = new Promise((resolve) => {\n",
              "    cancel.onclick = () => {\n",
              "      resolve(null);\n",
              "    };\n",
              "  });\n",
              "\n",
              "  // Wait for the user to pick the files.\n",
              "  const files = yield {\n",
              "    promise: Promise.race([pickedPromise, cancelPromise]),\n",
              "    response: {\n",
              "      action: 'starting',\n",
              "    }\n",
              "  };\n",
              "\n",
              "  cancel.remove();\n",
              "\n",
              "  // Disable the input element since further picks are not allowed.\n",
              "  inputElement.disabled = true;\n",
              "\n",
              "  if (!files) {\n",
              "    return {\n",
              "      response: {\n",
              "        action: 'complete',\n",
              "      }\n",
              "    };\n",
              "  }\n",
              "\n",
              "  for (const file of files) {\n",
              "    const li = document.createElement('li');\n",
              "    li.append(span(file.name, {fontWeight: 'bold'}));\n",
              "    li.append(span(\n",
              "        `(${file.type || 'n/a'}) - ${file.size} bytes, ` +\n",
              "        `last modified: ${\n",
              "            file.lastModifiedDate ? file.lastModifiedDate.toLocaleDateString() :\n",
              "                                    'n/a'} - `));\n",
              "    const percent = span('0% done');\n",
              "    li.appendChild(percent);\n",
              "\n",
              "    outputElement.appendChild(li);\n",
              "\n",
              "    const fileDataPromise = new Promise((resolve) => {\n",
              "      const reader = new FileReader();\n",
              "      reader.onload = (e) => {\n",
              "        resolve(e.target.result);\n",
              "      };\n",
              "      reader.readAsArrayBuffer(file);\n",
              "    });\n",
              "    // Wait for the data to be ready.\n",
              "    let fileData = yield {\n",
              "      promise: fileDataPromise,\n",
              "      response: {\n",
              "        action: 'continue',\n",
              "      }\n",
              "    };\n",
              "\n",
              "    // Use a chunked sending to avoid message size limits. See b/62115660.\n",
              "    let position = 0;\n",
              "    do {\n",
              "      const length = Math.min(fileData.byteLength - position, MAX_PAYLOAD_SIZE);\n",
              "      const chunk = new Uint8Array(fileData, position, length);\n",
              "      position += length;\n",
              "\n",
              "      const base64 = btoa(String.fromCharCode.apply(null, chunk));\n",
              "      yield {\n",
              "        response: {\n",
              "          action: 'append',\n",
              "          file: file.name,\n",
              "          data: base64,\n",
              "        },\n",
              "      };\n",
              "\n",
              "      let percentDone = fileData.byteLength === 0 ?\n",
              "          100 :\n",
              "          Math.round((position / fileData.byteLength) * 100);\n",
              "      percent.textContent = `${percentDone}% done`;\n",
              "\n",
              "    } while (position < fileData.byteLength);\n",
              "  }\n",
              "\n",
              "  // All done.\n",
              "  yield {\n",
              "    response: {\n",
              "      action: 'complete',\n",
              "    }\n",
              "  };\n",
              "}\n",
              "\n",
              "scope.google = scope.google || {};\n",
              "scope.google.colab = scope.google.colab || {};\n",
              "scope.google.colab._files = {\n",
              "  _uploadFiles,\n",
              "  _uploadFilesContinue,\n",
              "};\n",
              "})(self);\n",
              "</script> "
            ]
          },
          "metadata": {}
        },
        {
          "output_type": "stream",
          "name": "stdout",
          "text": [
            "Saving indian_liver_patient.csv to indian_liver_patient.csv\n"
          ]
        }
      ]
    },
    {
      "cell_type": "code",
      "source": [
        "#Read the Dataset"
      ],
      "metadata": {
        "id": "K8Fx1pMLQbOq"
      },
      "execution_count": null,
      "outputs": []
    },
    {
      "cell_type": "code",
      "source": [
        "data=pd.read_csv(\"indian_liver_patient.csv\")\n",
        "data.head()"
      ],
      "metadata": {
        "id": "7L9QcrxwQQ9X",
        "colab": {
          "base_uri": "https://localhost:8080/",
          "height": 270
        },
        "outputId": "94c09401-e786-484b-9922-0e2eabe1028b"
      },
      "execution_count": null,
      "outputs": [
        {
          "output_type": "execute_result",
          "data": {
            "text/plain": [
              "   Age  Gender  Total_Bilirubin  Direct_Bilirubin  Alkaline_Phosphotase  \\\n",
              "0   65  Female              0.7               0.1                   187   \n",
              "1   62    Male             10.9               5.5                   699   \n",
              "2   62    Male              7.3               4.1                   490   \n",
              "3   58    Male              1.0               0.4                   182   \n",
              "4   72    Male              3.9               2.0                   195   \n",
              "\n",
              "   Alamine_Aminotransferase  Aspartate_Aminotransferase  Total_Protiens  \\\n",
              "0                        16                          18             6.8   \n",
              "1                        64                         100             7.5   \n",
              "2                        60                          68             7.0   \n",
              "3                        14                          20             6.8   \n",
              "4                        27                          59             7.3   \n",
              "\n",
              "   Albumin  Albumin_and_Globulin_Ratio  Dataset  \n",
              "0      3.3                        0.90        1  \n",
              "1      3.2                        0.74        1  \n",
              "2      3.3                        0.89        1  \n",
              "3      3.4                        1.00        1  \n",
              "4      2.4                        0.40        1  "
            ],
            "text/html": [
              "\n",
              "  <div id=\"df-e3ce0590-a986-4f75-9be8-5cd82e9a6124\">\n",
              "    <div class=\"colab-df-container\">\n",
              "      <div>\n",
              "<style scoped>\n",
              "    .dataframe tbody tr th:only-of-type {\n",
              "        vertical-align: middle;\n",
              "    }\n",
              "\n",
              "    .dataframe tbody tr th {\n",
              "        vertical-align: top;\n",
              "    }\n",
              "\n",
              "    .dataframe thead th {\n",
              "        text-align: right;\n",
              "    }\n",
              "</style>\n",
              "<table border=\"1\" class=\"dataframe\">\n",
              "  <thead>\n",
              "    <tr style=\"text-align: right;\">\n",
              "      <th></th>\n",
              "      <th>Age</th>\n",
              "      <th>Gender</th>\n",
              "      <th>Total_Bilirubin</th>\n",
              "      <th>Direct_Bilirubin</th>\n",
              "      <th>Alkaline_Phosphotase</th>\n",
              "      <th>Alamine_Aminotransferase</th>\n",
              "      <th>Aspartate_Aminotransferase</th>\n",
              "      <th>Total_Protiens</th>\n",
              "      <th>Albumin</th>\n",
              "      <th>Albumin_and_Globulin_Ratio</th>\n",
              "      <th>Dataset</th>\n",
              "    </tr>\n",
              "  </thead>\n",
              "  <tbody>\n",
              "    <tr>\n",
              "      <th>0</th>\n",
              "      <td>65</td>\n",
              "      <td>Female</td>\n",
              "      <td>0.7</td>\n",
              "      <td>0.1</td>\n",
              "      <td>187</td>\n",
              "      <td>16</td>\n",
              "      <td>18</td>\n",
              "      <td>6.8</td>\n",
              "      <td>3.3</td>\n",
              "      <td>0.90</td>\n",
              "      <td>1</td>\n",
              "    </tr>\n",
              "    <tr>\n",
              "      <th>1</th>\n",
              "      <td>62</td>\n",
              "      <td>Male</td>\n",
              "      <td>10.9</td>\n",
              "      <td>5.5</td>\n",
              "      <td>699</td>\n",
              "      <td>64</td>\n",
              "      <td>100</td>\n",
              "      <td>7.5</td>\n",
              "      <td>3.2</td>\n",
              "      <td>0.74</td>\n",
              "      <td>1</td>\n",
              "    </tr>\n",
              "    <tr>\n",
              "      <th>2</th>\n",
              "      <td>62</td>\n",
              "      <td>Male</td>\n",
              "      <td>7.3</td>\n",
              "      <td>4.1</td>\n",
              "      <td>490</td>\n",
              "      <td>60</td>\n",
              "      <td>68</td>\n",
              "      <td>7.0</td>\n",
              "      <td>3.3</td>\n",
              "      <td>0.89</td>\n",
              "      <td>1</td>\n",
              "    </tr>\n",
              "    <tr>\n",
              "      <th>3</th>\n",
              "      <td>58</td>\n",
              "      <td>Male</td>\n",
              "      <td>1.0</td>\n",
              "      <td>0.4</td>\n",
              "      <td>182</td>\n",
              "      <td>14</td>\n",
              "      <td>20</td>\n",
              "      <td>6.8</td>\n",
              "      <td>3.4</td>\n",
              "      <td>1.00</td>\n",
              "      <td>1</td>\n",
              "    </tr>\n",
              "    <tr>\n",
              "      <th>4</th>\n",
              "      <td>72</td>\n",
              "      <td>Male</td>\n",
              "      <td>3.9</td>\n",
              "      <td>2.0</td>\n",
              "      <td>195</td>\n",
              "      <td>27</td>\n",
              "      <td>59</td>\n",
              "      <td>7.3</td>\n",
              "      <td>2.4</td>\n",
              "      <td>0.40</td>\n",
              "      <td>1</td>\n",
              "    </tr>\n",
              "  </tbody>\n",
              "</table>\n",
              "</div>\n",
              "      <button class=\"colab-df-convert\" onclick=\"convertToInteractive('df-e3ce0590-a986-4f75-9be8-5cd82e9a6124')\"\n",
              "              title=\"Convert this dataframe to an interactive table.\"\n",
              "              style=\"display:none;\">\n",
              "        \n",
              "  <svg xmlns=\"http://www.w3.org/2000/svg\" height=\"24px\"viewBox=\"0 0 24 24\"\n",
              "       width=\"24px\">\n",
              "    <path d=\"M0 0h24v24H0V0z\" fill=\"none\"/>\n",
              "    <path d=\"M18.56 5.44l.94 2.06.94-2.06 2.06-.94-2.06-.94-.94-2.06-.94 2.06-2.06.94zm-11 1L8.5 8.5l.94-2.06 2.06-.94-2.06-.94L8.5 2.5l-.94 2.06-2.06.94zm10 10l.94 2.06.94-2.06 2.06-.94-2.06-.94-.94-2.06-.94 2.06-2.06.94z\"/><path d=\"M17.41 7.96l-1.37-1.37c-.4-.4-.92-.59-1.43-.59-.52 0-1.04.2-1.43.59L10.3 9.45l-7.72 7.72c-.78.78-.78 2.05 0 2.83L4 21.41c.39.39.9.59 1.41.59.51 0 1.02-.2 1.41-.59l7.78-7.78 2.81-2.81c.8-.78.8-2.07 0-2.86zM5.41 20L4 18.59l7.72-7.72 1.47 1.35L5.41 20z\"/>\n",
              "  </svg>\n",
              "      </button>\n",
              "      \n",
              "  <style>\n",
              "    .colab-df-container {\n",
              "      display:flex;\n",
              "      flex-wrap:wrap;\n",
              "      gap: 12px;\n",
              "    }\n",
              "\n",
              "    .colab-df-convert {\n",
              "      background-color: #E8F0FE;\n",
              "      border: none;\n",
              "      border-radius: 50%;\n",
              "      cursor: pointer;\n",
              "      display: none;\n",
              "      fill: #1967D2;\n",
              "      height: 32px;\n",
              "      padding: 0 0 0 0;\n",
              "      width: 32px;\n",
              "    }\n",
              "\n",
              "    .colab-df-convert:hover {\n",
              "      background-color: #E2EBFA;\n",
              "      box-shadow: 0px 1px 2px rgba(60, 64, 67, 0.3), 0px 1px 3px 1px rgba(60, 64, 67, 0.15);\n",
              "      fill: #174EA6;\n",
              "    }\n",
              "\n",
              "    [theme=dark] .colab-df-convert {\n",
              "      background-color: #3B4455;\n",
              "      fill: #D2E3FC;\n",
              "    }\n",
              "\n",
              "    [theme=dark] .colab-df-convert:hover {\n",
              "      background-color: #434B5C;\n",
              "      box-shadow: 0px 1px 3px 1px rgba(0, 0, 0, 0.15);\n",
              "      filter: drop-shadow(0px 1px 2px rgba(0, 0, 0, 0.3));\n",
              "      fill: #FFFFFF;\n",
              "    }\n",
              "  </style>\n",
              "\n",
              "      <script>\n",
              "        const buttonEl =\n",
              "          document.querySelector('#df-e3ce0590-a986-4f75-9be8-5cd82e9a6124 button.colab-df-convert');\n",
              "        buttonEl.style.display =\n",
              "          google.colab.kernel.accessAllowed ? 'block' : 'none';\n",
              "\n",
              "        async function convertToInteractive(key) {\n",
              "          const element = document.querySelector('#df-e3ce0590-a986-4f75-9be8-5cd82e9a6124');\n",
              "          const dataTable =\n",
              "            await google.colab.kernel.invokeFunction('convertToInteractive',\n",
              "                                                     [key], {});\n",
              "          if (!dataTable) return;\n",
              "\n",
              "          const docLinkHtml = 'Like what you see? Visit the ' +\n",
              "            '<a target=\"_blank\" href=https://colab.research.google.com/notebooks/data_table.ipynb>data table notebook</a>'\n",
              "            + ' to learn more about interactive tables.';\n",
              "          element.innerHTML = '';\n",
              "          dataTable['output_type'] = 'display_data';\n",
              "          await google.colab.output.renderOutput(dataTable, element);\n",
              "          const docLink = document.createElement('div');\n",
              "          docLink.innerHTML = docLinkHtml;\n",
              "          element.appendChild(docLink);\n",
              "        }\n",
              "      </script>\n",
              "    </div>\n",
              "  </div>\n",
              "  "
            ]
          },
          "metadata": {},
          "execution_count": 4
        }
      ]
    },
    {
      "cell_type": "code",
      "source": [
        "#Handling Missing values"
      ],
      "metadata": {
        "id": "O7eyXqBNQmK2"
      },
      "execution_count": null,
      "outputs": []
    },
    {
      "cell_type": "code",
      "source": [
        "data.info()"
      ],
      "metadata": {
        "colab": {
          "base_uri": "https://localhost:8080/"
        },
        "id": "LpRpp_VwQ18t",
        "outputId": "3d137a67-041f-4cc8-d907-c0387f36b68d"
      },
      "execution_count": null,
      "outputs": [
        {
          "output_type": "stream",
          "name": "stdout",
          "text": [
            "<class 'pandas.core.frame.DataFrame'>\n",
            "RangeIndex: 583 entries, 0 to 582\n",
            "Data columns (total 11 columns):\n",
            " #   Column                      Non-Null Count  Dtype  \n",
            "---  ------                      --------------  -----  \n",
            " 0   Age                         583 non-null    int64  \n",
            " 1   Gender                      583 non-null    object \n",
            " 2   Total_Bilirubin             583 non-null    float64\n",
            " 3   Direct_Bilirubin            583 non-null    float64\n",
            " 4   Alkaline_Phosphotase        583 non-null    int64  \n",
            " 5   Alamine_Aminotransferase    583 non-null    int64  \n",
            " 6   Aspartate_Aminotransferase  583 non-null    int64  \n",
            " 7   Total_Protiens              583 non-null    float64\n",
            " 8   Albumin                     583 non-null    float64\n",
            " 9   Albumin_and_Globulin_Ratio  579 non-null    float64\n",
            " 10  Dataset                     583 non-null    int64  \n",
            "dtypes: float64(5), int64(5), object(1)\n",
            "memory usage: 50.2+ KB\n"
          ]
        }
      ]
    },
    {
      "cell_type": "code",
      "source": [
        "data.isnull().any()"
      ],
      "metadata": {
        "colab": {
          "base_uri": "https://localhost:8080/"
        },
        "id": "j8KqahT_RYyv",
        "outputId": "4e9f91db-d2b2-4092-db3a-2dcf71fe5763"
      },
      "execution_count": null,
      "outputs": [
        {
          "output_type": "execute_result",
          "data": {
            "text/plain": [
              "Age                           False\n",
              "Gender                        False\n",
              "Total_Bilirubin               False\n",
              "Direct_Bilirubin              False\n",
              "Alkaline_Phosphotase          False\n",
              "Alamine_Aminotransferase      False\n",
              "Aspartate_Aminotransferase    False\n",
              "Total_Protiens                False\n",
              "Albumin                       False\n",
              "Albumin_and_Globulin_Ratio     True\n",
              "Dataset                       False\n",
              "dtype: bool"
            ]
          },
          "metadata": {},
          "execution_count": 6
        }
      ]
    },
    {
      "cell_type": "code",
      "source": [
        "data.isnull().sum()"
      ],
      "metadata": {
        "colab": {
          "base_uri": "https://localhost:8080/"
        },
        "id": "8ejAcQqMReeK",
        "outputId": "61dd1405-f8e7-4589-f5bd-fda065e00aa9"
      },
      "execution_count": null,
      "outputs": [
        {
          "output_type": "execute_result",
          "data": {
            "text/plain": [
              "Age                           0\n",
              "Gender                        0\n",
              "Total_Bilirubin               0\n",
              "Direct_Bilirubin              0\n",
              "Alkaline_Phosphotase          0\n",
              "Alamine_Aminotransferase      0\n",
              "Aspartate_Aminotransferase    0\n",
              "Total_Protiens                0\n",
              "Albumin                       0\n",
              "Albumin_and_Globulin_Ratio    4\n",
              "Dataset                       0\n",
              "dtype: int64"
            ]
          },
          "metadata": {},
          "execution_count": 7
        }
      ]
    },
    {
      "cell_type": "code",
      "source": [
        "data['Albumin_and_Globulin_Ratio'] = data['Albumin_and_Globulin_Ratio'].fillna(data['Albumin_and_Globulin_Ratio'].mode()[0])\n",
        "data.isnull().sum()"
      ],
      "metadata": {
        "colab": {
          "base_uri": "https://localhost:8080/"
        },
        "id": "zp1VFjS6SlSL",
        "outputId": "fce61ee4-82bc-4e34-bc65-54363bf27d32"
      },
      "execution_count": null,
      "outputs": [
        {
          "output_type": "execute_result",
          "data": {
            "text/plain": [
              "Age                           0\n",
              "Gender                        0\n",
              "Total_Bilirubin               0\n",
              "Direct_Bilirubin              0\n",
              "Alkaline_Phosphotase          0\n",
              "Alamine_Aminotransferase      0\n",
              "Aspartate_Aminotransferase    0\n",
              "Total_Protiens                0\n",
              "Albumin                       0\n",
              "Albumin_and_Globulin_Ratio    0\n",
              "Dataset                       0\n",
              "dtype: int64"
            ]
          },
          "metadata": {},
          "execution_count": 11
        }
      ]
    },
    {
      "cell_type": "code",
      "source": [
        "#Handling categorical values"
      ],
      "metadata": {
        "id": "WUzCwymiQu2i"
      },
      "execution_count": null,
      "outputs": []
    },
    {
      "cell_type": "code",
      "source": [
        "from sklearn.preprocessing import LabelEncoder\n",
        "lc = LabelEncoder()\n",
        "data['Gender'] = lc.fit_transform(data['Gender']) "
      ],
      "metadata": {
        "id": "sp-BMJWAS0mw"
      },
      "execution_count": null,
      "outputs": []
    },
    {
      "cell_type": "code",
      "source": [
        "#Descriptive Analysis"
      ],
      "metadata": {
        "id": "U1e2hHEiQ3hp"
      },
      "execution_count": null,
      "outputs": []
    },
    {
      "cell_type": "code",
      "source": [
        "data.describe()"
      ],
      "metadata": {
        "colab": {
          "base_uri": "https://localhost:8080/",
          "height": 364
        },
        "id": "IB_PX2UrS3ZT",
        "outputId": "7a3ba1f8-767a-4a2c-eb4b-652c0c1c1963"
      },
      "execution_count": null,
      "outputs": [
        {
          "output_type": "execute_result",
          "data": {
            "text/plain": [
              "              Age      Gender  Total_Bilirubin  Direct_Bilirubin  \\\n",
              "count  583.000000  583.000000       583.000000        583.000000   \n",
              "mean    44.746141    0.756432         3.298799          1.486106   \n",
              "std     16.189833    0.429603         6.209522          2.808498   \n",
              "min      4.000000    0.000000         0.400000          0.100000   \n",
              "25%     33.000000    1.000000         0.800000          0.200000   \n",
              "50%     45.000000    1.000000         1.000000          0.300000   \n",
              "75%     58.000000    1.000000         2.600000          1.300000   \n",
              "max     90.000000    1.000000        75.000000         19.700000   \n",
              "\n",
              "       Alkaline_Phosphotase  Alamine_Aminotransferase  \\\n",
              "count            583.000000                583.000000   \n",
              "mean             290.576329                 80.713551   \n",
              "std              242.937989                182.620356   \n",
              "min               63.000000                 10.000000   \n",
              "25%              175.500000                 23.000000   \n",
              "50%              208.000000                 35.000000   \n",
              "75%              298.000000                 60.500000   \n",
              "max             2110.000000               2000.000000   \n",
              "\n",
              "       Aspartate_Aminotransferase  Total_Protiens     Albumin  \\\n",
              "count                  583.000000      583.000000  583.000000   \n",
              "mean                   109.910806        6.483190    3.141852   \n",
              "std                    288.918529        1.085451    0.795519   \n",
              "min                     10.000000        2.700000    0.900000   \n",
              "25%                     25.000000        5.800000    2.600000   \n",
              "50%                     42.000000        6.600000    3.100000   \n",
              "75%                     87.000000        7.200000    3.800000   \n",
              "max                   4929.000000        9.600000    5.500000   \n",
              "\n",
              "       Albumin_and_Globulin_Ratio     Dataset  \n",
              "count                  579.000000  583.000000  \n",
              "mean                     0.947064    1.286449  \n",
              "std                      0.319592    0.452490  \n",
              "min                      0.300000    1.000000  \n",
              "25%                      0.700000    1.000000  \n",
              "50%                      0.930000    1.000000  \n",
              "75%                      1.100000    2.000000  \n",
              "max                      2.800000    2.000000  "
            ],
            "text/html": [
              "\n",
              "  <div id=\"df-fe015068-76c2-449b-9be6-c70d2906baf1\">\n",
              "    <div class=\"colab-df-container\">\n",
              "      <div>\n",
              "<style scoped>\n",
              "    .dataframe tbody tr th:only-of-type {\n",
              "        vertical-align: middle;\n",
              "    }\n",
              "\n",
              "    .dataframe tbody tr th {\n",
              "        vertical-align: top;\n",
              "    }\n",
              "\n",
              "    .dataframe thead th {\n",
              "        text-align: right;\n",
              "    }\n",
              "</style>\n",
              "<table border=\"1\" class=\"dataframe\">\n",
              "  <thead>\n",
              "    <tr style=\"text-align: right;\">\n",
              "      <th></th>\n",
              "      <th>Age</th>\n",
              "      <th>Gender</th>\n",
              "      <th>Total_Bilirubin</th>\n",
              "      <th>Direct_Bilirubin</th>\n",
              "      <th>Alkaline_Phosphotase</th>\n",
              "      <th>Alamine_Aminotransferase</th>\n",
              "      <th>Aspartate_Aminotransferase</th>\n",
              "      <th>Total_Protiens</th>\n",
              "      <th>Albumin</th>\n",
              "      <th>Albumin_and_Globulin_Ratio</th>\n",
              "      <th>Dataset</th>\n",
              "    </tr>\n",
              "  </thead>\n",
              "  <tbody>\n",
              "    <tr>\n",
              "      <th>count</th>\n",
              "      <td>583.000000</td>\n",
              "      <td>583.000000</td>\n",
              "      <td>583.000000</td>\n",
              "      <td>583.000000</td>\n",
              "      <td>583.000000</td>\n",
              "      <td>583.000000</td>\n",
              "      <td>583.000000</td>\n",
              "      <td>583.000000</td>\n",
              "      <td>583.000000</td>\n",
              "      <td>579.000000</td>\n",
              "      <td>583.000000</td>\n",
              "    </tr>\n",
              "    <tr>\n",
              "      <th>mean</th>\n",
              "      <td>44.746141</td>\n",
              "      <td>0.756432</td>\n",
              "      <td>3.298799</td>\n",
              "      <td>1.486106</td>\n",
              "      <td>290.576329</td>\n",
              "      <td>80.713551</td>\n",
              "      <td>109.910806</td>\n",
              "      <td>6.483190</td>\n",
              "      <td>3.141852</td>\n",
              "      <td>0.947064</td>\n",
              "      <td>1.286449</td>\n",
              "    </tr>\n",
              "    <tr>\n",
              "      <th>std</th>\n",
              "      <td>16.189833</td>\n",
              "      <td>0.429603</td>\n",
              "      <td>6.209522</td>\n",
              "      <td>2.808498</td>\n",
              "      <td>242.937989</td>\n",
              "      <td>182.620356</td>\n",
              "      <td>288.918529</td>\n",
              "      <td>1.085451</td>\n",
              "      <td>0.795519</td>\n",
              "      <td>0.319592</td>\n",
              "      <td>0.452490</td>\n",
              "    </tr>\n",
              "    <tr>\n",
              "      <th>min</th>\n",
              "      <td>4.000000</td>\n",
              "      <td>0.000000</td>\n",
              "      <td>0.400000</td>\n",
              "      <td>0.100000</td>\n",
              "      <td>63.000000</td>\n",
              "      <td>10.000000</td>\n",
              "      <td>10.000000</td>\n",
              "      <td>2.700000</td>\n",
              "      <td>0.900000</td>\n",
              "      <td>0.300000</td>\n",
              "      <td>1.000000</td>\n",
              "    </tr>\n",
              "    <tr>\n",
              "      <th>25%</th>\n",
              "      <td>33.000000</td>\n",
              "      <td>1.000000</td>\n",
              "      <td>0.800000</td>\n",
              "      <td>0.200000</td>\n",
              "      <td>175.500000</td>\n",
              "      <td>23.000000</td>\n",
              "      <td>25.000000</td>\n",
              "      <td>5.800000</td>\n",
              "      <td>2.600000</td>\n",
              "      <td>0.700000</td>\n",
              "      <td>1.000000</td>\n",
              "    </tr>\n",
              "    <tr>\n",
              "      <th>50%</th>\n",
              "      <td>45.000000</td>\n",
              "      <td>1.000000</td>\n",
              "      <td>1.000000</td>\n",
              "      <td>0.300000</td>\n",
              "      <td>208.000000</td>\n",
              "      <td>35.000000</td>\n",
              "      <td>42.000000</td>\n",
              "      <td>6.600000</td>\n",
              "      <td>3.100000</td>\n",
              "      <td>0.930000</td>\n",
              "      <td>1.000000</td>\n",
              "    </tr>\n",
              "    <tr>\n",
              "      <th>75%</th>\n",
              "      <td>58.000000</td>\n",
              "      <td>1.000000</td>\n",
              "      <td>2.600000</td>\n",
              "      <td>1.300000</td>\n",
              "      <td>298.000000</td>\n",
              "      <td>60.500000</td>\n",
              "      <td>87.000000</td>\n",
              "      <td>7.200000</td>\n",
              "      <td>3.800000</td>\n",
              "      <td>1.100000</td>\n",
              "      <td>2.000000</td>\n",
              "    </tr>\n",
              "    <tr>\n",
              "      <th>max</th>\n",
              "      <td>90.000000</td>\n",
              "      <td>1.000000</td>\n",
              "      <td>75.000000</td>\n",
              "      <td>19.700000</td>\n",
              "      <td>2110.000000</td>\n",
              "      <td>2000.000000</td>\n",
              "      <td>4929.000000</td>\n",
              "      <td>9.600000</td>\n",
              "      <td>5.500000</td>\n",
              "      <td>2.800000</td>\n",
              "      <td>2.000000</td>\n",
              "    </tr>\n",
              "  </tbody>\n",
              "</table>\n",
              "</div>\n",
              "      <button class=\"colab-df-convert\" onclick=\"convertToInteractive('df-fe015068-76c2-449b-9be6-c70d2906baf1')\"\n",
              "              title=\"Convert this dataframe to an interactive table.\"\n",
              "              style=\"display:none;\">\n",
              "        \n",
              "  <svg xmlns=\"http://www.w3.org/2000/svg\" height=\"24px\"viewBox=\"0 0 24 24\"\n",
              "       width=\"24px\">\n",
              "    <path d=\"M0 0h24v24H0V0z\" fill=\"none\"/>\n",
              "    <path d=\"M18.56 5.44l.94 2.06.94-2.06 2.06-.94-2.06-.94-.94-2.06-.94 2.06-2.06.94zm-11 1L8.5 8.5l.94-2.06 2.06-.94-2.06-.94L8.5 2.5l-.94 2.06-2.06.94zm10 10l.94 2.06.94-2.06 2.06-.94-2.06-.94-.94-2.06-.94 2.06-2.06.94z\"/><path d=\"M17.41 7.96l-1.37-1.37c-.4-.4-.92-.59-1.43-.59-.52 0-1.04.2-1.43.59L10.3 9.45l-7.72 7.72c-.78.78-.78 2.05 0 2.83L4 21.41c.39.39.9.59 1.41.59.51 0 1.02-.2 1.41-.59l7.78-7.78 2.81-2.81c.8-.78.8-2.07 0-2.86zM5.41 20L4 18.59l7.72-7.72 1.47 1.35L5.41 20z\"/>\n",
              "  </svg>\n",
              "      </button>\n",
              "      \n",
              "  <style>\n",
              "    .colab-df-container {\n",
              "      display:flex;\n",
              "      flex-wrap:wrap;\n",
              "      gap: 12px;\n",
              "    }\n",
              "\n",
              "    .colab-df-convert {\n",
              "      background-color: #E8F0FE;\n",
              "      border: none;\n",
              "      border-radius: 50%;\n",
              "      cursor: pointer;\n",
              "      display: none;\n",
              "      fill: #1967D2;\n",
              "      height: 32px;\n",
              "      padding: 0 0 0 0;\n",
              "      width: 32px;\n",
              "    }\n",
              "\n",
              "    .colab-df-convert:hover {\n",
              "      background-color: #E2EBFA;\n",
              "      box-shadow: 0px 1px 2px rgba(60, 64, 67, 0.3), 0px 1px 3px 1px rgba(60, 64, 67, 0.15);\n",
              "      fill: #174EA6;\n",
              "    }\n",
              "\n",
              "    [theme=dark] .colab-df-convert {\n",
              "      background-color: #3B4455;\n",
              "      fill: #D2E3FC;\n",
              "    }\n",
              "\n",
              "    [theme=dark] .colab-df-convert:hover {\n",
              "      background-color: #434B5C;\n",
              "      box-shadow: 0px 1px 3px 1px rgba(0, 0, 0, 0.15);\n",
              "      filter: drop-shadow(0px 1px 2px rgba(0, 0, 0, 0.3));\n",
              "      fill: #FFFFFF;\n",
              "    }\n",
              "  </style>\n",
              "\n",
              "      <script>\n",
              "        const buttonEl =\n",
              "          document.querySelector('#df-fe015068-76c2-449b-9be6-c70d2906baf1 button.colab-df-convert');\n",
              "        buttonEl.style.display =\n",
              "          google.colab.kernel.accessAllowed ? 'block' : 'none';\n",
              "\n",
              "        async function convertToInteractive(key) {\n",
              "          const element = document.querySelector('#df-fe015068-76c2-449b-9be6-c70d2906baf1');\n",
              "          const dataTable =\n",
              "            await google.colab.kernel.invokeFunction('convertToInteractive',\n",
              "                                                     [key], {});\n",
              "          if (!dataTable) return;\n",
              "\n",
              "          const docLinkHtml = 'Like what you see? Visit the ' +\n",
              "            '<a target=\"_blank\" href=https://colab.research.google.com/notebooks/data_table.ipynb>data table notebook</a>'\n",
              "            + ' to learn more about interactive tables.';\n",
              "          element.innerHTML = '';\n",
              "          dataTable['output_type'] = 'display_data';\n",
              "          await google.colab.output.renderOutput(dataTable, element);\n",
              "          const docLink = document.createElement('div');\n",
              "          docLink.innerHTML = docLinkHtml;\n",
              "          element.appendChild(docLink);\n",
              "        }\n",
              "      </script>\n",
              "    </div>\n",
              "  </div>\n",
              "  "
            ]
          },
          "metadata": {},
          "execution_count": 9
        }
      ]
    },
    {
      "cell_type": "code",
      "source": [
        "#Visual Analysis\n",
        "#Univariate analysis"
      ],
      "metadata": {
        "id": "8WNy9yAjRB45"
      },
      "execution_count": null,
      "outputs": []
    },
    {
      "cell_type": "code",
      "source": [
        "sns.distplot(data['Age'])\n",
        "plt.title('Age Distribution Graph')\n",
        "plt.show()"
      ],
      "metadata": {
        "colab": {
          "base_uri": "https://localhost:8080/",
          "height": 472
        },
        "id": "Q1V7CalLTC1C",
        "outputId": "89d621ba-83d0-45f1-bf72-19bf735c6e79"
      },
      "execution_count": null,
      "outputs": [
        {
          "output_type": "display_data",
          "data": {
            "text/plain": [
              "<Figure size 640x480 with 1 Axes>"
            ],
            "image/png": "[encoded data removed]"
          },
          "metadata": {}
        }
      ]
    },
    {
      "cell_type": "code",
      "source": [
        "sns.countplot(data['Dataset'],x=data['Gender'])"
      ],
      "metadata": {
        "colab": {
          "base_uri": "https://localhost:8080/",
          "height": 467
        },
        "id": "WrWi4QTUTalB",
        "outputId": "c26b0ef6-c2f9-41ab-ae15-203bbfa8508d"
      },
      "execution_count": null,
      "outputs": [
        {
          "output_type": "execute_result",
          "data": {
            "text/plain": [
              "<Axes: xlabel='Dataset', ylabel='count'>"
            ]
          },
          "metadata": {},
          "execution_count": 11
        },
        {
          "output_type": "display_data",
          "data": {
            "text/plain": [
              "<Figure size 640x480 with 1 Axes>"
            ],
            "image/png": "[encoded data removed]"
          },
          "metadata": {}
        }
      ]
    },
    {
      "cell_type": "code",
      "source": [
        "plt.figure(figsize=(10,7))\n",
        "sns.heatmap(data.corr(),annot=True)"
      ],
      "metadata": {
        "colab": {
          "base_uri": "https://localhost:8080/",
          "height": 696
        },
        "id": "810YZzPrTmYr",
        "outputId": "d929a78d-de17-4b9e-aca1-def40f227f66"
      },
      "execution_count": null,
      "outputs": [
        {
          "output_type": "execute_result",
          "data": {
            "text/plain": [
              "<Axes: >"
            ]
          },
          "metadata": {},
          "execution_count": 12
        },
        {
          "output_type": "display_data",
          "data": {
            "text/plain": [
              "<Figure size 1000x700 with 2 Axes>"
            ],
            "image/png": "[encoded data removed]"
          },
          "metadata": {}
        }
      ]
    },
    {
      "cell_type": "code",
      "source": [
        "#scaling the data"
      ],
      "metadata": {
        "id": "q6Nj9pbXX95I"
      },
      "execution_count": null,
      "outputs": []
    },
    {
      "cell_type": "code",
      "source": [
        "from sklearn.preprocessing import scale\n",
        "x_scaled=pd.DataFrame (scale(x),columns=x.columns)\n",
        "x_scaled.head()\n"
      ],
      "metadata": {
        "colab": {
          "base_uri": "https://localhost:8080/",
          "height": 270
        },
        "id": "0cXUNUyXLL7E",
        "outputId": "2752a2a8-c2ac-4d01-db29-29f6ab0615e7"
      },
      "execution_count": null,
      "outputs": [
        {
          "output_type": "execute_result",
          "data": {
            "text/plain": [
              "        Age    Gender  Total_Bilirubin  Direct_Bilirubin  \\\n",
              "0  1.252098 -1.762281        -0.418878         -0.493964   \n",
              "1  1.066637  0.567446         1.225171          1.430423   \n",
              "2  1.066637  0.567446         0.644919          0.931508   \n",
              "3  0.819356  0.567446        -0.370523         -0.387054   \n",
              "4  1.684839  0.567446         0.096902          0.183135   \n",
              "\n",
              "   Alkaline_Phosphotase  Alamine_Aminotransferase  Aspartate_Aminotransferase  \\\n",
              "0             -0.426715                 -0.354665                   -0.318393   \n",
              "1              1.682629                 -0.091599                   -0.034333   \n",
              "2              0.821588                 -0.113522                   -0.145186   \n",
              "3             -0.447314                 -0.365626                   -0.311465   \n",
              "4             -0.393756                 -0.294379                   -0.176363   \n",
              "\n",
              "   Total_Protiens   Albumin  Albumin_and_Globulin_Ratio  \n",
              "0        0.292120  0.198969                   -0.147390  \n",
              "1        0.937566  0.073157                   -0.648461  \n",
              "2        0.476533  0.198969                   -0.178707  \n",
              "3        0.292120  0.324781                    0.165780  \n",
              "4        0.753153 -0.933340                   -1.713237  "
            ],
            "text/html": [
              "\n",
              "  <div id=\"df-3386ca40-24b9-426d-bd23-c30e4511b114\">\n",
              "    <div class=\"colab-df-container\">\n",
              "      <div>\n",
              "<style scoped>\n",
              "    .dataframe tbody tr th:only-of-type {\n",
              "        vertical-align: middle;\n",
              "    }\n",
              "\n",
              "    .dataframe tbody tr th {\n",
              "        vertical-align: top;\n",
              "    }\n",
              "\n",
              "    .dataframe thead th {\n",
              "        text-align: right;\n",
              "    }\n",
              "</style>\n",
              "<table border=\"1\" class=\"dataframe\">\n",
              "  <thead>\n",
              "    <tr style=\"text-align: right;\">\n",
              "      <th></th>\n",
              "      <th>Age</th>\n",
              "      <th>Gender</th>\n",
              "      <th>Total_Bilirubin</th>\n",
              "      <th>Direct_Bilirubin</th>\n",
              "      <th>Alkaline_Phosphotase</th>\n",
              "      <th>Alamine_Aminotransferase</th>\n",
              "      <th>Aspartate_Aminotransferase</th>\n",
              "      <th>Total_Protiens</th>\n",
              "      <th>Albumin</th>\n",
              "      <th>Albumin_and_Globulin_Ratio</th>\n",
              "    </tr>\n",
              "  </thead>\n",
              "  <tbody>\n",
              "    <tr>\n",
              "      <th>0</th>\n",
              "      <td>1.252098</td>\n",
              "      <td>-1.762281</td>\n",
              "      <td>-0.418878</td>\n",
              "      <td>-0.493964</td>\n",
              "      <td>-0.426715</td>\n",
              "      <td>-0.354665</td>\n",
              "      <td>-0.318393</td>\n",
              "      <td>0.292120</td>\n",
              "      <td>0.198969</td>\n",
              "      <td>-0.147390</td>\n",
              "    </tr>\n",
              "    <tr>\n",
              "      <th>1</th>\n",
              "      <td>1.066637</td>\n",
              "      <td>0.567446</td>\n",
              "      <td>1.225171</td>\n",
              "      <td>1.430423</td>\n",
              "      <td>1.682629</td>\n",
              "      <td>-0.091599</td>\n",
              "      <td>-0.034333</td>\n",
              "      <td>0.937566</td>\n",
              "      <td>0.073157</td>\n",
              "      <td>-0.648461</td>\n",
              "    </tr>\n",
              "    <tr>\n",
              "      <th>2</th>\n",
              "      <td>1.066637</td>\n",
              "      <td>0.567446</td>\n",
              "      <td>0.644919</td>\n",
              "      <td>0.931508</td>\n",
              "      <td>0.821588</td>\n",
              "      <td>-0.113522</td>\n",
              "      <td>-0.145186</td>\n",
              "      <td>0.476533</td>\n",
              "      <td>0.198969</td>\n",
              "      <td>-0.178707</td>\n",
              "    </tr>\n",
              "    <tr>\n",
              "      <th>3</th>\n",
              "      <td>0.819356</td>\n",
              "      <td>0.567446</td>\n",
              "      <td>-0.370523</td>\n",
              "      <td>-0.387054</td>\n",
              "      <td>-0.447314</td>\n",
              "      <td>-0.365626</td>\n",
              "      <td>-0.311465</td>\n",
              "      <td>0.292120</td>\n",
              "      <td>0.324781</td>\n",
              "      <td>0.165780</td>\n",
              "    </tr>\n",
              "    <tr>\n",
              "      <th>4</th>\n",
              "      <td>1.684839</td>\n",
              "      <td>0.567446</td>\n",
              "      <td>0.096902</td>\n",
              "      <td>0.183135</td>\n",
              "      <td>-0.393756</td>\n",
              "      <td>-0.294379</td>\n",
              "      <td>-0.176363</td>\n",
              "      <td>0.753153</td>\n",
              "      <td>-0.933340</td>\n",
              "      <td>-1.713237</td>\n",
              "    </tr>\n",
              "  </tbody>\n",
              "</table>\n",
              "</div>\n",
              "      <button class=\"colab-df-convert\" onclick=\"convertToInteractive('df-3386ca40-24b9-426d-bd23-c30e4511b114')\"\n",
              "              title=\"Convert this dataframe to an interactive table.\"\n",
              "              style=\"display:none;\">\n",
              "        \n",
              "  <svg xmlns=\"http://www.w3.org/2000/svg\" height=\"24px\"viewBox=\"0 0 24 24\"\n",
              "       width=\"24px\">\n",
              "    <path d=\"M0 0h24v24H0V0z\" fill=\"none\"/>\n",
              "    <path d=\"M18.56 5.44l.94 2.06.94-2.06 2.06-.94-2.06-.94-.94-2.06-.94 2.06-2.06.94zm-11 1L8.5 8.5l.94-2.06 2.06-.94-2.06-.94L8.5 2.5l-.94 2.06-2.06.94zm10 10l.94 2.06.94-2.06 2.06-.94-2.06-.94-.94-2.06-.94 2.06-2.06.94z\"/><path d=\"M17.41 7.96l-1.37-1.37c-.4-.4-.92-.59-1.43-.59-.52 0-1.04.2-1.43.59L10.3 9.45l-7.72 7.72c-.78.78-.78 2.05 0 2.83L4 21.41c.39.39.9.59 1.41.59.51 0 1.02-.2 1.41-.59l7.78-7.78 2.81-2.81c.8-.78.8-2.07 0-2.86zM5.41 20L4 18.59l7.72-7.72 1.47 1.35L5.41 20z\"/>\n",
              "  </svg>\n",
              "      </button>\n",
              "      \n",
              "  <style>\n",
              "    .colab-df-container {\n",
              "      display:flex;\n",
              "      flex-wrap:wrap;\n",
              "      gap: 12px;\n",
              "    }\n",
              "\n",
              "    .colab-df-convert {\n",
              "      background-color: #E8F0FE;\n",
              "      border: none;\n",
              "      border-radius: 50%;\n",
              "      cursor: pointer;\n",
              "      display: none;\n",
              "      fill: #1967D2;\n",
              "      height: 32px;\n",
              "      padding: 0 0 0 0;\n",
              "      width: 32px;\n",
              "    }\n",
              "\n",
              "    .colab-df-convert:hover {\n",
              "      background-color: #E2EBFA;\n",
              "      box-shadow: 0px 1px 2px rgba(60, 64, 67, 0.3), 0px 1px 3px 1px rgba(60, 64, 67, 0.15);\n",
              "      fill: #174EA6;\n",
              "    }\n",
              "\n",
              "    [theme=dark] .colab-df-convert {\n",
              "      background-color: #3B4455;\n",
              "      fill: #D2E3FC;\n",
              "    }\n",
              "\n",
              "    [theme=dark] .colab-df-convert:hover {\n",
              "      background-color: #434B5C;\n",
              "      box-shadow: 0px 1px 3px 1px rgba(0, 0, 0, 0.15);\n",
              "      filter: drop-shadow(0px 1px 2px rgba(0, 0, 0, 0.3));\n",
              "      fill: #FFFFFF;\n",
              "    }\n",
              "  </style>\n",
              "\n",
              "      <script>\n",
              "        const buttonEl =\n",
              "          document.querySelector('#df-3386ca40-24b9-426d-bd23-c30e4511b114 button.colab-df-convert');\n",
              "        buttonEl.style.display =\n",
              "          google.colab.kernel.accessAllowed ? 'block' : 'none';\n",
              "\n",
              "        async function convertToInteractive(key) {\n",
              "          const element = document.querySelector('#df-3386ca40-24b9-426d-bd23-c30e4511b114');\n",
              "          const dataTable =\n",
              "            await google.colab.kernel.invokeFunction('convertToInteractive',\n",
              "                                                     [key], {});\n",
              "          if (!dataTable) return;\n",
              "\n",
              "          const docLinkHtml = 'Like what you see? Visit the ' +\n",
              "            '<a target=\"_blank\" href=https://colab.research.google.com/notebooks/data_table.ipynb>data table notebook</a>'\n",
              "            + ' to learn more about interactive tables.';\n",
              "          element.innerHTML = '';\n",
              "          dataTable['output_type'] = 'display_data';\n",
              "          await google.colab.output.renderOutput(dataTable, element);\n",
              "          const docLink = document.createElement('div');\n",
              "          docLink.innerHTML = docLinkHtml;\n",
              "          element.appendChild(docLink);\n",
              "        }\n",
              "      </script>\n",
              "    </div>\n",
              "  </div>\n",
              "  "
            ]
          },
          "metadata": {},
          "execution_count": 38
        }
      ]
    },
    {
      "cell_type": "code",
      "source": [
        "x=data.iloc[:,:-1]\n",
        "y=data.Dataset\n"
      ],
      "metadata": {
        "id": "H7tohqbLXXR1"
      },
      "execution_count": null,
      "outputs": []
    },
    {
      "cell_type": "code",
      "source": [
        "from sklearn.model_selection import train_test_split\n",
        "\n",
        "x_train,x_test,y_train,y_test=train_test_split(x,y,test_size=0.2,random_state=42)"
      ],
      "metadata": {
        "id": "uZ3KQzZLX4hQ"
      },
      "execution_count": null,
      "outputs": []
    },
    {
      "cell_type": "code",
      "source": [
        "#Handling imbalance data"
      ],
      "metadata": {
        "id": "xUObCiryY8q1"
      },
      "execution_count": null,
      "outputs": []
    },
    {
      "cell_type": "code",
      "source": [
        "from imblearn.over_sampling import SMOTE\n",
        "smote = SMOTE()"
      ],
      "metadata": {
        "id": "tAwiR-uHYy5Q"
      },
      "execution_count": null,
      "outputs": []
    },
    {
      "cell_type": "code",
      "source": [
        "y_train.value_counts()"
      ],
      "metadata": {
        "colab": {
          "base_uri": "https://localhost:8080/"
        },
        "id": "SXze5pWOY-PH",
        "outputId": "491ce58e-24cd-43be-ae98-88c82e9da5dd"
      },
      "execution_count": null,
      "outputs": [
        {
          "output_type": "execute_result",
          "data": {
            "text/plain": [
              "1    329\n",
              "2    137\n",
              "Name: Dataset, dtype: int64"
            ]
          },
          "metadata": {},
          "execution_count": 21
        }
      ]
    },
    {
      "cell_type": "code",
      "source": [
        "from sklearn.metrics import accuracy_score\n",
        "from sklearn.metrics import confusion_matrix"
      ],
      "metadata": {
        "id": "ZlSYmg3AZcQu"
      },
      "execution_count": null,
      "outputs": []
    },
    {
      "cell_type": "code",
      "source": [
        "from sklearn.svm import SVC\n",
        "from sklearn.ensemble import RandomForestClassifier\n",
        "from sklearn.neighbors import KNeighborsClassifier"
      ],
      "metadata": {
        "id": "v9zW_uEEZuLH"
      },
      "execution_count": null,
      "outputs": []
    },
    {
      "cell_type": "code",
      "source": [
        "#Model Building"
      ],
      "metadata": {
        "id": "rlysQbd7ZHDC"
      },
      "execution_count": null,
      "outputs": []
    },
    {
      "cell_type": "code",
      "source": [
        "svm=SVC()\n",
        "RFmodel=RandomForestClassifier()\n",
        "KNmodel=KNeighborsClassifier()"
      ],
      "metadata": {
        "id": "1mWUDABkZ1t1"
      },
      "execution_count": null,
      "outputs": []
    },
    {
      "cell_type": "code",
      "source": [
        "from sklearn.svm import SVC\n",
        "svm=SVC()"
      ],
      "metadata": {
        "id": "NRr7cQ07aZJR"
      },
      "execution_count": null,
      "outputs": []
    },
    {
      "cell_type": "code",
      "source": [
        "RFaccuracy=accuracy_score(RFpred,y_test)\n",
        "RFaccuracy"
      ],
      "metadata": {
        "colab": {
          "base_uri": "https://localhost:8080/"
        },
        "id": "MA8sN5BbdBAF",
        "outputId": "a7dcb52a-faf2-49f6-f421-acb8faddbb8c"
      },
      "execution_count": null,
      "outputs": [
        {
          "output_type": "execute_result",
          "data": {
            "text/plain": [
              "0.7521367521367521"
            ]
          },
          "metadata": {},
          "execution_count": 69
        }
      ]
    },
    {
      "cell_type": "code",
      "source": [
        "RFcm=confusion_matrix(RFpred,y_test)\n",
        "RFcm"
      ],
      "metadata": {
        "colab": {
          "base_uri": "https://localhost:8080/"
        },
        "id": "gmDiRjjshGHu",
        "outputId": "a63d41a1-7326-4b49-d597-a9d3033a82d9"
      },
      "execution_count": null,
      "outputs": [
        {
          "output_type": "execute_result",
          "data": {
            "text/plain": [
              "array([[75, 17],\n",
              "       [12, 13]])"
            ]
          },
          "metadata": {},
          "execution_count": 70
        }
      ]
    },
    {
      "cell_type": "code",
      "source": [
        "from sklearn.neighbors import KNeighborsClassifier\n",
        "KNN=KNeighborsClassifier()"
      ],
      "metadata": {
        "id": "dqaiRShMhi2f"
      },
      "execution_count": null,
      "outputs": []
    },
    {
      "cell_type": "code",
      "source": [
        "KNNpred=KNN.predict(x_test)"
      ],
      "metadata": {
        "id": "hy9CUO42hlD7"
      },
      "execution_count": null,
      "outputs": []
    },
    {
      "cell_type": "code",
      "source": [
        "KNNpred=KNN.predict(x_test)"
      ],
      "metadata": {
        "id": "N9N_k8ahhqPk"
      },
      "execution_count": null,
      "outputs": []
    },
    {
      "cell_type": "code",
      "source": [
        "KNNaccuracy=accuracy_score(KNNpred,y_test)\n",
        "KNNaccuracy"
      ],
      "metadata": {
        "id": "zIK84dXmhzBE"
      },
      "execution_count": null,
      "outputs": []
    },
    {
      "cell_type": "markdown",
      "source": [
        "     0.6837606837606838"
      ],
      "metadata": {
        "id": "OV4QEQZue6aP"
      }
    },
    {
      "cell_type": "code",
      "source": [
        "KNNcm=confusion_matrix(KNNpred,y_test)\n",
        "KNNcm"
      ],
      "metadata": {
        "colab": {
          "base_uri": "https://localhost:8080/"
        },
        "id": "FwcP_M59iHa6",
        "outputId": "197d7896-f086-46a5-b1e4-1ca54c6ae98e"
      },
      "execution_count": null,
      "outputs": [
        {
          "output_type": "execute_result",
          "data": {
            "text/plain": [
              "array([[69, 19],\n",
              "       [18, 11]])"
            ]
          },
          "metadata": {},
          "execution_count": 76
        }
      ]
    },
    {
      "cell_type": "code",
      "source": [
        "from sklearn.tree import DecisionTreeClassifier\n",
        "DTC=DecisionTreeClassifier()"
      ],
      "metadata": {
        "id": "nLXM1tDZiWWU"
      },
      "execution_count": null,
      "outputs": []
    },
    {
      "cell_type": "code",
      "source": [
        "DTC.fit(x_train,y_train)"
      ],
      "metadata": {
        "colab": {
          "base_uri": "https://localhost:8080/",
          "height": 75
        },
        "id": "zph4lXfWipig",
        "outputId": "9acbe4db-84e5-4ea8-f9bb-00f1913b334c"
      },
      "execution_count": null,
      "outputs": [
        {
          "output_type": "execute_result",
          "data": {
            "text/plain": [
              "DecisionTreeClassifier()"
            ],
            "text/html": [
              "<style>#sk-container-id-4 {color: black;background-color: white;}#sk-container-id-4 pre{padding: 0;}#sk-container-id-4 div.sk-toggleable {background-color: white;}#sk-container-id-4 label.sk-toggleable__label {cursor: pointer;display: block;width: 100%;margin-bottom: 0;padding: 0.3em;box-sizing: border-box;text-align: center;}#sk-container-id-4 label.sk-toggleable__label-arrow:before {content: \"▸\";float: left;margin-right: 0.25em;color: #696969;}#sk-container-id-4 label.sk-toggleable__label-arrow:hover:before {color: black;}#sk-container-id-4 div.sk-estimator:hover label.sk-toggleable__label-arrow:before {color: black;}#sk-container-id-4 div.sk-toggleable__content {max-height: 0;max-width: 0;overflow: hidden;text-align: left;background-color: #f0f8ff;}#sk-container-id-4 div.sk-toggleable__content pre {margin: 0.2em;color: black;border-radius: 0.25em;background-color: #f0f8ff;}#sk-container-id-4 input.sk-toggleable__control:checked~div.sk-toggleable__content {max-height: 200px;max-width: 100%;overflow: auto;}#sk-container-id-4 input.sk-toggleable__control:checked~label.sk-toggleable__label-arrow:before {content: \"▾\";}#sk-container-id-4 div.sk-estimator input.sk-toggleable__control:checked~label.sk-toggleable__label {background-color: #d4ebff;}#sk-container-id-4 div.sk-label input.sk-toggleable__control:checked~label.sk-toggleable__label {background-color: #d4ebff;}#sk-container-id-4 input.sk-hidden--visually {border: 0;clip: rect(1px 1px 1px 1px);clip: rect(1px, 1px, 1px, 1px);height: 1px;margin: -1px;overflow: hidden;padding: 0;position: absolute;width: 1px;}#sk-container-id-4 div.sk-estimator {font-family: monospace;background-color: #f0f8ff;border: 1px dotted black;border-radius: 0.25em;box-sizing: border-box;margin-bottom: 0.5em;}#sk-container-id-4 div.sk-estimator:hover {background-color: #d4ebff;}#sk-container-id-4 div.sk-parallel-item::after {content: \"\";width: 100%;border-bottom: 1px solid gray;flex-grow: 1;}#sk-container-id-4 div.sk-label:hover label.sk-toggleable__label {background-color: #d4ebff;}#sk-container-id-4 div.sk-serial::before {content: \"\";position: absolute;border-left: 1px solid gray;box-sizing: border-box;top: 0;bottom: 0;left: 50%;z-index: 0;}#sk-container-id-4 div.sk-serial {display: flex;flex-direction: column;align-items: center;background-color: white;padding-right: 0.2em;padding-left: 0.2em;position: relative;}#sk-container-id-4 div.sk-item {position: relative;z-index: 1;}#sk-container-id-4 div.sk-parallel {display: flex;align-items: stretch;justify-content: center;background-color: white;position: relative;}#sk-container-id-4 div.sk-item::before, #sk-container-id-4 div.sk-parallel-item::before {content: \"\";position: absolute;border-left: 1px solid gray;box-sizing: border-box;top: 0;bottom: 0;left: 50%;z-index: -1;}#sk-container-id-4 div.sk-parallel-item {display: flex;flex-direction: column;z-index: 1;position: relative;background-color: white;}#sk-container-id-4 div.sk-parallel-item:first-child::after {align-self: flex-end;width: 50%;}#sk-container-id-4 div.sk-parallel-item:last-child::after {align-self: flex-start;width: 50%;}#sk-container-id-4 div.sk-parallel-item:only-child::after {width: 0;}#sk-container-id-4 div.sk-dashed-wrapped {border: 1px dashed gray;margin: 0 0.4em 0.5em 0.4em;box-sizing: border-box;padding-bottom: 0.4em;background-color: white;}#sk-container-id-4 div.sk-label label {font-family: monospace;font-weight: bold;display: inline-block;line-height: 1.2em;}#sk-container-id-4 div.sk-label-container {text-align: center;}#sk-container-id-4 div.sk-container {/* jupyter's `normalize.less` sets `[hidden] { display: none; }` but bootstrap.min.css set `[hidden] { display: none !important; }` so we also need the `!important` here to be able to override the default hidden behavior on the sphinx rendered scikit-learn.org. See: https://github.com/scikit-learn/scikit-learn/issues/21755 */display: inline-block !important;position: relative;}#sk-container-id-4 div.sk-text-repr-fallback {display: none;}</style><div id=\"sk-container-id-4\" class=\"sk-top-container\"><div class=\"sk-text-repr-fallback\"><pre>DecisionTreeClassifier()</pre><b>In a Jupyter environment, please rerun this cell to show the HTML representation or trust the notebook. <br />On GitHub, the HTML representation is unable to render, please try loading this page with nbviewer.org.</b></div><div class=\"sk-container\" hidden><div class=\"sk-item\"><div class=\"sk-estimator sk-toggleable\"><input class=\"sk-toggleable__control sk-hidden--visually\" id=\"sk-estimator-id-4\" type=\"checkbox\" checked><label for=\"sk-estimator-id-4\" class=\"sk-toggleable__label sk-toggleable__label-arrow\">DecisionTreeClassifier</label><div class=\"sk-toggleable__content\"><pre>DecisionTreeClassifier()</pre></div></div></div></div></div>"
            ]
          },
          "metadata": {},
          "execution_count": 78
        }
      ]
    },
    {
      "cell_type": "code",
      "source": [
        "DTCpred=DTC.predict(x_test)"
      ],
      "metadata": {
        "id": "OIPhfpa_jnFl"
      },
      "execution_count": null,
      "outputs": []
    },
    {
      "cell_type": "code",
      "source": [
        "DTCaccuracy=accuracy_score(DTCpred,y_test)\n",
        "DTCaccuracy"
      ],
      "metadata": {
        "colab": {
          "base_uri": "https://localhost:8080/"
        },
        "id": "KVeriPSZi4Eg",
        "outputId": "8cfaff4a-7645-435f-ce65-1083f16e45e8"
      },
      "execution_count": null,
      "outputs": [
        {
          "output_type": "execute_result",
          "data": {
            "text/plain": [
              "0.717948717948718"
            ]
          },
          "metadata": {},
          "execution_count": 82
        }
      ]
    },
    {
      "cell_type": "code",
      "source": [
        "DTCcm=confusion_matrix(DTCpred,y_test)\n",
        "DTCcm"
      ],
      "metadata": {
        "colab": {
          "base_uri": "https://localhost:8080/"
        },
        "id": "MLxr2KimkK7e",
        "outputId": "3b820f76-5697-4389-e6c3-dc0164df1c27"
      },
      "execution_count": null,
      "outputs": [
        {
          "output_type": "execute_result",
          "data": {
            "text/plain": [
              "array([[66, 12],\n",
              "       [21, 18]])"
            ]
          },
          "metadata": {},
          "execution_count": 83
        }
      ]
    },
    {
      "cell_type": "code",
      "source": [
        "from sklearn.linear_model import LogisticRegression\n",
        "LR=LogisticRegression()"
      ],
      "metadata": {
        "id": "XOSPClVmkdmC"
      },
      "execution_count": null,
      "outputs": []
    },
    {
      "cell_type": "code",
      "source": [
        "LR.fit(x_train,y_train)"
      ],
      "metadata": {
        "colab": {
          "base_uri": "https://localhost:8080/",
          "height": 75
        },
        "id": "hqovizHLkgbM",
        "outputId": "9192f698-a4e1-4514-b85f-0a1f21e51062"
      },
      "execution_count": null,
      "outputs": [
        {
          "output_type": "execute_result",
          "data": {
            "text/plain": [
              "LogisticRegression()"
            ],
            "text/html": [
              "<style>#sk-container-id-9 {color: black;background-color: white;}#sk-container-id-9 pre{padding: 0;}#sk-container-id-9 div.sk-toggleable {background-color: white;}#sk-container-id-9 label.sk-toggleable__label {cursor: pointer;display: block;width: 100%;margin-bottom: 0;padding: 0.3em;box-sizing: border-box;text-align: center;}#sk-container-id-9 label.sk-toggleable__label-arrow:before {content: \"▸\";float: left;margin-right: 0.25em;color: #696969;}#sk-container-id-9 label.sk-toggleable__label-arrow:hover:before {color: black;}#sk-container-id-9 div.sk-estimator:hover label.sk-toggleable__label-arrow:before {color: black;}#sk-container-id-9 div.sk-toggleable__content {max-height: 0;max-width: 0;overflow: hidden;text-align: left;background-color: #f0f8ff;}#sk-container-id-9 div.sk-toggleable__content pre {margin: 0.2em;color: black;border-radius: 0.25em;background-color: #f0f8ff;}#sk-container-id-9 input.sk-toggleable__control:checked~div.sk-toggleable__content {max-height: 200px;max-width: 100%;overflow: auto;}#sk-container-id-9 input.sk-toggleable__control:checked~label.sk-toggleable__label-arrow:before {content: \"▾\";}#sk-container-id-9 div.sk-estimator input.sk-toggleable__control:checked~label.sk-toggleable__label {background-color: #d4ebff;}#sk-container-id-9 div.sk-label input.sk-toggleable__control:checked~label.sk-toggleable__label {background-color: #d4ebff;}#sk-container-id-9 input.sk-hidden--visually {border: 0;clip: rect(1px 1px 1px 1px);clip: rect(1px, 1px, 1px, 1px);height: 1px;margin: -1px;overflow: hidden;padding: 0;position: absolute;width: 1px;}#sk-container-id-9 div.sk-estimator {font-family: monospace;background-color: #f0f8ff;border: 1px dotted black;border-radius: 0.25em;box-sizing: border-box;margin-bottom: 0.5em;}#sk-container-id-9 div.sk-estimator:hover {background-color: #d4ebff;}#sk-container-id-9 div.sk-parallel-item::after {content: \"\";width: 100%;border-bottom: 1px solid gray;flex-grow: 1;}#sk-container-id-9 div.sk-label:hover label.sk-toggleable__label {background-color: #d4ebff;}#sk-container-id-9 div.sk-serial::before {content: \"\";position: absolute;border-left: 1px solid gray;box-sizing: border-box;top: 0;bottom: 0;left: 50%;z-index: 0;}#sk-container-id-9 div.sk-serial {display: flex;flex-direction: column;align-items: center;background-color: white;padding-right: 0.2em;padding-left: 0.2em;position: relative;}#sk-container-id-9 div.sk-item {position: relative;z-index: 1;}#sk-container-id-9 div.sk-parallel {display: flex;align-items: stretch;justify-content: center;background-color: white;position: relative;}#sk-container-id-9 div.sk-item::before, #sk-container-id-9 div.sk-parallel-item::before {content: \"\";position: absolute;border-left: 1px solid gray;box-sizing: border-box;top: 0;bottom: 0;left: 50%;z-index: -1;}#sk-container-id-9 div.sk-parallel-item {display: flex;flex-direction: column;z-index: 1;position: relative;background-color: white;}#sk-container-id-9 div.sk-parallel-item:first-child::after {align-self: flex-end;width: 50%;}#sk-container-id-9 div.sk-parallel-item:last-child::after {align-self: flex-start;width: 50%;}#sk-container-id-9 div.sk-parallel-item:only-child::after {width: 0;}#sk-container-id-9 div.sk-dashed-wrapped {border: 1px dashed gray;margin: 0 0.4em 0.5em 0.4em;box-sizing: border-box;padding-bottom: 0.4em;background-color: white;}#sk-container-id-9 div.sk-label label {font-family: monospace;font-weight: bold;display: inline-block;line-height: 1.2em;}#sk-container-id-9 div.sk-label-container {text-align: center;}#sk-container-id-9 div.sk-container {/* jupyter's `normalize.less` sets `[hidden] { display: none; }` but bootstrap.min.css set `[hidden] { display: none !important; }` so we also need the `!important` here to be able to override the default hidden behavior on the sphinx rendered scikit-learn.org. See: https://github.com/scikit-learn/scikit-learn/issues/21755 */display: inline-block !important;position: relative;}#sk-container-id-9 div.sk-text-repr-fallback {display: none;}</style><div id=\"sk-container-id-9\" class=\"sk-top-container\"><div class=\"sk-text-repr-fallback\"><pre>LogisticRegression()</pre><b>In a Jupyter environment, please rerun this cell to show the HTML representation or trust the notebook. <br />On GitHub, the HTML representation is unable to render, please try loading this page with nbviewer.org.</b></div><div class=\"sk-container\" hidden><div class=\"sk-item\"><div class=\"sk-estimator sk-toggleable\"><input class=\"sk-toggleable__control sk-hidden--visually\" id=\"sk-estimator-id-9\" type=\"checkbox\" checked><label for=\"sk-estimator-id-9\" class=\"sk-toggleable__label sk-toggleable__label-arrow\">LogisticRegression</label><div class=\"sk-toggleable__content\"><pre>LogisticRegression()</pre></div></div></div></div></div>"
            ]
          },
          "metadata": {},
          "execution_count": 96
        }
      ]
    },
    {
      "cell_type": "code",
      "source": [
        "LRpred=LR.predict(x_test)"
      ],
      "metadata": {
        "id": "4EhICsnAlSBG"
      },
      "execution_count": null,
      "outputs": []
    },
    {
      "cell_type": "code",
      "source": [
        "LRaccuracy=accuracy_score(LRpred,y_test)\n",
        "LRaccuracy"
      ],
      "metadata": {
        "colab": {
          "base_uri": "https://localhost:8080/"
        },
        "id": "ZB17MYInk-Z8",
        "outputId": "791aa988-79de-4621-c3b6-b80756601399"
      },
      "execution_count": null,
      "outputs": [
        {
          "output_type": "execute_result",
          "data": {
            "text/plain": [
              "0.7435897435897436"
            ]
          },
          "metadata": {},
          "execution_count": 90
        }
      ]
    },
    {
      "cell_type": "code",
      "source": [
        "LRcm=confusion_matrix(LRpred,y_test)\n",
        "LRcm"
      ],
      "metadata": {
        "colab": {
          "base_uri": "https://localhost:8080/"
        },
        "id": "pTQiHzudlZIy",
        "outputId": "d37fefb0-d8b4-4a44-e340-73f87aa015d4"
      },
      "execution_count": null,
      "outputs": [
        {
          "output_type": "execute_result",
          "data": {
            "text/plain": [
              "array([[82, 25],\n",
              "       [ 5,  5]])"
            ]
          },
          "metadata": {},
          "execution_count": 92
        }
      ]
    },
    {
      "cell_type": "code",
      "source": [
        "import tensorflow.keras\n",
        "from tensorflow.keras.models import Sequential\n",
        "from tensorflow.keras.layers import Dense"
      ],
      "metadata": {
        "id": "nIXXyItHmJPj"
      },
      "execution_count": null,
      "outputs": []
    },
    {
      "cell_type": "code",
      "source": [
        "classifier = Sequential()"
      ],
      "metadata": {
        "id": "pPaUCnafmO5M"
      },
      "execution_count": null,
      "outputs": []
    },
    {
      "cell_type": "code",
      "source": [
        "classifier.add(Dense(units=100,activation='relu',input_dim=10))"
      ],
      "metadata": {
        "id": "pw0krEv-mShq"
      },
      "execution_count": null,
      "outputs": []
    },
    {
      "cell_type": "code",
      "source": [
        "classifier.add(Dense(units=50,activation='relu'))"
      ],
      "metadata": {
        "id": "-bu2m6thmYlc"
      },
      "execution_count": null,
      "outputs": []
    },
    {
      "cell_type": "code",
      "source": [
        "classifier.add(Dense(units=1,activation='sigmoid'))"
      ],
      "metadata": {
        "id": "gzIKnIHKmhHO"
      },
      "execution_count": null,
      "outputs": []
    },
    {
      "cell_type": "code",
      "source": [
        "classifier.compile(optimizer='adam',loss='binary_crossentropy',metrics=['accuracy'])"
      ],
      "metadata": {
        "id": "WfrEkOMDmieR"
      },
      "execution_count": null,
      "outputs": []
    },
    {
      "cell_type": "code",
      "source": [
        "RFmodel_history=classifier.fit(x_train,y_train,batch_size=100,validation_split=0.2,epochs=100)"
      ],
      "metadata": {
        "colab": {
          "base_uri": "https://localhost:8080/"
        },
        "id": "OxYqqqbomn9x",
        "outputId": "904e44f1-8596-4ee7-d7b0-37a5b336e939"
      },
      "execution_count": null,
      "outputs": [
        {
          "output_type": "stream",
          "name": "stdout",
          "text": [
            "Epoch 1/100\n",
            "4/4 [==============================] - 0s 80ms/step - loss: -658367.8125 - accuracy: 0.7016 - val_loss: -593204.0625 - val_accuracy: 0.7234\n",
            "Epoch 2/100\n",
            "4/4 [==============================] - 0s 37ms/step - loss: -667815.0000 - accuracy: 0.7016 - val_loss: -601997.3125 - val_accuracy: 0.7234\n",
            "Epoch 3/100\n",
            "4/4 [==============================] - 0s 53ms/step - loss: -677944.8750 - accuracy: 0.7016 - val_loss: -610722.8125 - val_accuracy: 0.7234\n",
            "Epoch 4/100\n",
            "4/4 [==============================] - 0s 51ms/step - loss: -687855.5625 - accuracy: 0.7016 - val_loss: -619532.7500 - val_accuracy: 0.7234\n",
            "Epoch 5/100\n",
            "4/4 [==============================] - 0s 43ms/step - loss: -697299.9375 - accuracy: 0.7016 - val_loss: -628574.0000 - val_accuracy: 0.7234\n",
            "Epoch 6/100\n",
            "4/4 [==============================] - 0s 41ms/step - loss: -707700.5000 - accuracy: 0.7016 - val_loss: -637505.2500 - val_accuracy: 0.7234\n",
            "Epoch 7/100\n",
            "4/4 [==============================] - 0s 41ms/step - loss: -717873.1875 - accuracy: 0.7016 - val_loss: -646466.5625 - val_accuracy: 0.7234\n",
            "Epoch 8/100\n",
            "4/4 [==============================] - 0s 52ms/step - loss: -727852.1250 - accuracy: 0.7016 - val_loss: -655572.5625 - val_accuracy: 0.7234\n",
            "Epoch 9/100\n",
            "4/4 [==============================] - 0s 29ms/step - loss: -738061.7500 - accuracy: 0.7016 - val_loss: -664791.8125 - val_accuracy: 0.7234\n",
            "Epoch 10/100\n",
            "4/4 [==============================] - 0s 24ms/step - loss: -748137.7500 - accuracy: 0.7016 - val_loss: -674201.8125 - val_accuracy: 0.7234\n",
            "Epoch 11/100\n",
            "4/4 [==============================] - 0s 37ms/step - loss: -759247.3125 - accuracy: 0.7016 - val_loss: -683482.2500 - val_accuracy: 0.7234\n",
            "Epoch 12/100\n",
            "4/4 [==============================] - 0s 26ms/step - loss: -769670.8750 - accuracy: 0.7016 - val_loss: -692927.8125 - val_accuracy: 0.7234\n",
            "Epoch 13/100\n",
            "4/4 [==============================] - 0s 19ms/step - loss: -780058.7500 - accuracy: 0.7016 - val_loss: -702565.5625 - val_accuracy: 0.7234\n",
            "Epoch 14/100\n",
            "4/4 [==============================] - 0s 36ms/step - loss: -790572.3125 - accuracy: 0.7016 - val_loss: -712313.8125 - val_accuracy: 0.7234\n",
            "Epoch 15/100\n",
            "4/4 [==============================] - 0s 25ms/step - loss: -801802.5000 - accuracy: 0.7016 - val_loss: -721993.8125 - val_accuracy: 0.7234\n",
            "Epoch 16/100\n",
            "4/4 [==============================] - 0s 30ms/step - loss: -812847.3750 - accuracy: 0.7016 - val_loss: -731739.5625 - val_accuracy: 0.7234\n",
            "Epoch 17/100\n",
            "4/4 [==============================] - 0s 42ms/step - loss: -823909.3125 - accuracy: 0.7016 - val_loss: -741573.6875 - val_accuracy: 0.7234\n",
            "Epoch 18/100\n",
            "4/4 [==============================] - 0s 43ms/step - loss: -834615.9375 - accuracy: 0.7016 - val_loss: -751650.8125 - val_accuracy: 0.7234\n",
            "Epoch 19/100\n",
            "4/4 [==============================] - 0s 20ms/step - loss: -846041.3125 - accuracy: 0.7016 - val_loss: -761723.0000 - val_accuracy: 0.7234\n",
            "Epoch 20/100\n",
            "4/4 [==============================] - 0s 27ms/step - loss: -857278.9375 - accuracy: 0.7016 - val_loss: -771933.6875 - val_accuracy: 0.7234\n",
            "Epoch 21/100\n",
            "4/4 [==============================] - 0s 20ms/step - loss: -868970.2500 - accuracy: 0.7016 - val_loss: -782164.2500 - val_accuracy: 0.7234\n",
            "Epoch 22/100\n",
            "4/4 [==============================] - 0s 33ms/step - loss: -880613.0000 - accuracy: 0.7016 - val_loss: -792485.2500 - val_accuracy: 0.7234\n",
            "Epoch 23/100\n",
            "4/4 [==============================] - 0s 67ms/step - loss: -891858.9375 - accuracy: 0.7016 - val_loss: -803042.0625 - val_accuracy: 0.7234\n",
            "Epoch 24/100\n",
            "4/4 [==============================] - 0s 57ms/step - loss: -903902.8750 - accuracy: 0.7016 - val_loss: -813523.7500 - val_accuracy: 0.7234\n",
            "Epoch 25/100\n",
            "4/4 [==============================] - 0s 56ms/step - loss: -915529.8750 - accuracy: 0.7016 - val_loss: -824129.3750 - val_accuracy: 0.7234\n",
            "Epoch 26/100\n",
            "4/4 [==============================] - 0s 55ms/step - loss: -927790.4375 - accuracy: 0.7016 - val_loss: -834718.0625 - val_accuracy: 0.7234\n",
            "Epoch 27/100\n",
            "4/4 [==============================] - 0s 53ms/step - loss: -939390.9375 - accuracy: 0.7016 - val_loss: -845578.3750 - val_accuracy: 0.7234\n",
            "Epoch 28/100\n",
            "4/4 [==============================] - 0s 20ms/step - loss: -951746.6875 - accuracy: 0.7016 - val_loss: -856461.6250 - val_accuracy: 0.7234\n",
            "Epoch 29/100\n",
            "4/4 [==============================] - 0s 13ms/step - loss: -964017.0625 - accuracy: 0.7016 - val_loss: -867335.2500 - val_accuracy: 0.7234\n",
            "Epoch 30/100\n",
            "4/4 [==============================] - 0s 14ms/step - loss: -976092.1875 - accuracy: 0.7016 - val_loss: -878283.5625 - val_accuracy: 0.7234\n",
            "Epoch 31/100\n",
            "4/4 [==============================] - 0s 18ms/step - loss: -988350.1875 - accuracy: 0.7016 - val_loss: -889272.2500 - val_accuracy: 0.7234\n",
            "Epoch 32/100\n",
            "4/4 [==============================] - 0s 16ms/step - loss: -1000706.9375 - accuracy: 0.7016 - val_loss: -900362.7500 - val_accuracy: 0.7234\n",
            "Epoch 33/100\n",
            "4/4 [==============================] - 0s 19ms/step - loss: -1013206.9375 - accuracy: 0.7016 - val_loss: -911565.0000 - val_accuracy: 0.7234\n",
            "Epoch 34/100\n",
            "4/4 [==============================] - 0s 21ms/step - loss: -1026137.4375 - accuracy: 0.7016 - val_loss: -922823.0000 - val_accuracy: 0.7234\n",
            "Epoch 35/100\n",
            "4/4 [==============================] - 0s 19ms/step - loss: -1037931.1875 - accuracy: 0.7016 - val_loss: -934481.6250 - val_accuracy: 0.7234\n",
            "Epoch 36/100\n",
            "4/4 [==============================] - 0s 14ms/step - loss: -1051233.7500 - accuracy: 0.7016 - val_loss: -945996.4375 - val_accuracy: 0.7234\n",
            "Epoch 37/100\n",
            "4/4 [==============================] - 0s 19ms/step - loss: -1064053.8750 - accuracy: 0.7016 - val_loss: -957543.7500 - val_accuracy: 0.7234\n",
            "Epoch 38/100\n",
            "4/4 [==============================] - 0s 19ms/step - loss: -1077281.3750 - accuracy: 0.7016 - val_loss: -969030.5625 - val_accuracy: 0.7234\n",
            "Epoch 39/100\n",
            "4/4 [==============================] - 0s 19ms/step - loss: -1090125.3750 - accuracy: 0.7016 - val_loss: -980694.3125 - val_accuracy: 0.7234\n",
            "Epoch 40/100\n",
            "4/4 [==============================] - 0s 25ms/step - loss: -1103089.1250 - accuracy: 0.7016 - val_loss: -992526.8125 - val_accuracy: 0.7234\n",
            "Epoch 41/100\n",
            "4/4 [==============================] - 0s 19ms/step - loss: -1116665.6250 - accuracy: 0.7016 - val_loss: -1004365.9375 - val_accuracy: 0.7234\n",
            "Epoch 42/100\n",
            "4/4 [==============================] - 0s 14ms/step - loss: -1129659.7500 - accuracy: 0.7016 - val_loss: -1016444.1875 - val_accuracy: 0.7234\n",
            "Epoch 43/100\n",
            "4/4 [==============================] - 0s 13ms/step - loss: -1143343.8750 - accuracy: 0.7016 - val_loss: -1028518.8125 - val_accuracy: 0.7234\n",
            "Epoch 44/100\n",
            "4/4 [==============================] - 0s 20ms/step - loss: -1156914.8750 - accuracy: 0.7016 - val_loss: -1040690.8750 - val_accuracy: 0.7234\n",
            "Epoch 45/100\n",
            "4/4 [==============================] - 0s 17ms/step - loss: -1170839.7500 - accuracy: 0.7016 - val_loss: -1052845.2500 - val_accuracy: 0.7234\n",
            "Epoch 46/100\n",
            "4/4 [==============================] - 0s 20ms/step - loss: -1184115.1250 - accuracy: 0.7016 - val_loss: -1065299.1250 - val_accuracy: 0.7234\n",
            "Epoch 47/100\n",
            "4/4 [==============================] - 0s 19ms/step - loss: -1198001.7500 - accuracy: 0.7016 - val_loss: -1077800.1250 - val_accuracy: 0.7234\n",
            "Epoch 48/100\n",
            "4/4 [==============================] - 0s 19ms/step - loss: -1212449.0000 - accuracy: 0.7016 - val_loss: -1090211.3750 - val_accuracy: 0.7234\n",
            "Epoch 49/100\n",
            "4/4 [==============================] - 0s 19ms/step - loss: -1226363.3750 - accuracy: 0.7016 - val_loss: -1102746.2500 - val_accuracy: 0.7234\n",
            "Epoch 50/100\n",
            "4/4 [==============================] - 0s 20ms/step - loss: -1240148.2500 - accuracy: 0.7016 - val_loss: -1115452.1250 - val_accuracy: 0.7234\n",
            "Epoch 51/100\n",
            "4/4 [==============================] - 0s 15ms/step - loss: -1254514.6250 - accuracy: 0.7016 - val_loss: -1128213.5000 - val_accuracy: 0.7234\n",
            "Epoch 52/100\n",
            "4/4 [==============================] - 0s 19ms/step - loss: -1268405.0000 - accuracy: 0.7016 - val_loss: -1141175.3750 - val_accuracy: 0.7234\n",
            "Epoch 53/100\n",
            "4/4 [==============================] - 0s 13ms/step - loss: -1283378.7500 - accuracy: 0.7016 - val_loss: -1153975.8750 - val_accuracy: 0.7234\n",
            "Epoch 54/100\n",
            "4/4 [==============================] - 0s 13ms/step - loss: -1297842.6250 - accuracy: 0.7016 - val_loss: -1166885.2500 - val_accuracy: 0.7234\n",
            "Epoch 55/100\n",
            "4/4 [==============================] - 0s 19ms/step - loss: -1313219.6250 - accuracy: 0.7016 - val_loss: -1179737.3750 - val_accuracy: 0.7234\n",
            "Epoch 56/100\n",
            "4/4 [==============================] - 0s 14ms/step - loss: -1327222.6250 - accuracy: 0.7016 - val_loss: -1193090.7500 - val_accuracy: 0.7234\n",
            "Epoch 57/100\n",
            "4/4 [==============================] - 0s 19ms/step - loss: -1341815.2500 - accuracy: 0.7016 - val_loss: -1206648.1250 - val_accuracy: 0.7234\n",
            "Epoch 58/100\n",
            "4/4 [==============================] - 0s 19ms/step - loss: -1356829.8750 - accuracy: 0.7016 - val_loss: -1220226.7500 - val_accuracy: 0.7234\n",
            "Epoch 59/100\n",
            "4/4 [==============================] - 0s 14ms/step - loss: -1372226.3750 - accuracy: 0.7016 - val_loss: -1233714.5000 - val_accuracy: 0.7234\n",
            "Epoch 60/100\n",
            "4/4 [==============================] - 0s 13ms/step - loss: -1387510.3750 - accuracy: 0.7016 - val_loss: -1247228.3750 - val_accuracy: 0.7234\n",
            "Epoch 61/100\n",
            "4/4 [==============================] - 0s 14ms/step - loss: -1402555.0000 - accuracy: 0.7016 - val_loss: -1260871.1250 - val_accuracy: 0.7234\n",
            "Epoch 62/100\n",
            "4/4 [==============================] - 0s 23ms/step - loss: -1417701.6250 - accuracy: 0.7016 - val_loss: -1274690.7500 - val_accuracy: 0.7234\n",
            "Epoch 63/100\n",
            "4/4 [==============================] - 0s 14ms/step - loss: -1433544.1250 - accuracy: 0.7016 - val_loss: -1288476.2500 - val_accuracy: 0.7234\n",
            "Epoch 64/100\n",
            "4/4 [==============================] - 0s 19ms/step - loss: -1449153.0000 - accuracy: 0.7016 - val_loss: -1302399.7500 - val_accuracy: 0.7234\n",
            "Epoch 65/100\n",
            "4/4 [==============================] - 0s 13ms/step - loss: -1464224.3750 - accuracy: 0.7016 - val_loss: -1316549.5000 - val_accuracy: 0.7234\n",
            "Epoch 66/100\n",
            "4/4 [==============================] - 0s 12ms/step - loss: -1479801.0000 - accuracy: 0.7016 - val_loss: -1330783.8750 - val_accuracy: 0.7234\n",
            "Epoch 67/100\n",
            "4/4 [==============================] - 0s 13ms/step - loss: -1496706.6250 - accuracy: 0.7016 - val_loss: -1344791.1250 - val_accuracy: 0.7234\n",
            "Epoch 68/100\n",
            "4/4 [==============================] - 0s 14ms/step - loss: -1512144.8750 - accuracy: 0.7016 - val_loss: -1359089.2500 - val_accuracy: 0.7234\n",
            "Epoch 69/100\n",
            "4/4 [==============================] - 0s 14ms/step - loss: -1528065.8750 - accuracy: 0.7016 - val_loss: -1373541.0000 - val_accuracy: 0.7234\n",
            "Epoch 70/100\n",
            "4/4 [==============================] - 0s 19ms/step - loss: -1544517.3750 - accuracy: 0.7016 - val_loss: -1388008.6250 - val_accuracy: 0.7234\n",
            "Epoch 71/100\n",
            "4/4 [==============================] - 0s 13ms/step - loss: -1561332.0000 - accuracy: 0.7016 - val_loss: -1402453.5000 - val_accuracy: 0.7234\n",
            "Epoch 72/100\n",
            "4/4 [==============================] - 0s 19ms/step - loss: -1577190.0000 - accuracy: 0.7016 - val_loss: -1417268.3750 - val_accuracy: 0.7234\n",
            "Epoch 73/100\n",
            "4/4 [==============================] - 0s 14ms/step - loss: -1594071.0000 - accuracy: 0.7016 - val_loss: -1432073.5000 - val_accuracy: 0.7234\n",
            "Epoch 74/100\n",
            "4/4 [==============================] - 0s 13ms/step - loss: -1610046.1250 - accuracy: 0.7016 - val_loss: -1447196.8750 - val_accuracy: 0.7234\n",
            "Epoch 75/100\n",
            "4/4 [==============================] - 0s 20ms/step - loss: -1627160.6250 - accuracy: 0.7016 - val_loss: -1462295.5000 - val_accuracy: 0.7234\n",
            "Epoch 76/100\n",
            "4/4 [==============================] - 0s 14ms/step - loss: -1644354.2500 - accuracy: 0.7016 - val_loss: -1477444.3750 - val_accuracy: 0.7234\n",
            "Epoch 77/100\n",
            "4/4 [==============================] - 0s 19ms/step - loss: -1661460.2500 - accuracy: 0.7016 - val_loss: -1492718.0000 - val_accuracy: 0.7234\n",
            "Epoch 78/100\n",
            "4/4 [==============================] - 0s 19ms/step - loss: -1679104.5000 - accuracy: 0.7016 - val_loss: -1508000.1250 - val_accuracy: 0.7234\n",
            "Epoch 79/100\n",
            "4/4 [==============================] - 0s 14ms/step - loss: -1695154.1250 - accuracy: 0.7016 - val_loss: -1523874.7500 - val_accuracy: 0.7234\n",
            "Epoch 80/100\n",
            "4/4 [==============================] - 0s 19ms/step - loss: -1713723.8750 - accuracy: 0.7016 - val_loss: -1539401.7500 - val_accuracy: 0.7234\n",
            "Epoch 81/100\n",
            "4/4 [==============================] - 0s 20ms/step - loss: -1730503.8750 - accuracy: 0.7016 - val_loss: -1555277.7500 - val_accuracy: 0.7234\n",
            "Epoch 82/100\n",
            "4/4 [==============================] - 0s 20ms/step - loss: -1748175.6250 - accuracy: 0.7016 - val_loss: -1571173.1250 - val_accuracy: 0.7234\n",
            "Epoch 83/100\n",
            "4/4 [==============================] - 0s 22ms/step - loss: -1766677.6250 - accuracy: 0.7016 - val_loss: -1586805.2500 - val_accuracy: 0.7234\n",
            "Epoch 84/100\n",
            "4/4 [==============================] - 0s 14ms/step - loss: -1784156.8750 - accuracy: 0.7016 - val_loss: -1602683.8750 - val_accuracy: 0.7234\n",
            "Epoch 85/100\n",
            "4/4 [==============================] - 0s 14ms/step - loss: -1801669.3750 - accuracy: 0.7016 - val_loss: -1618731.8750 - val_accuracy: 0.7234\n",
            "Epoch 86/100\n",
            "4/4 [==============================] - 0s 20ms/step - loss: -1819357.3750 - accuracy: 0.7016 - val_loss: -1634839.8750 - val_accuracy: 0.7234\n",
            "Epoch 87/100\n",
            "4/4 [==============================] - 0s 20ms/step - loss: -1838195.5000 - accuracy: 0.7016 - val_loss: -1650720.6250 - val_accuracy: 0.7234\n",
            "Epoch 88/100\n",
            "4/4 [==============================] - 0s 14ms/step - loss: -1855447.3750 - accuracy: 0.7016 - val_loss: -1667040.0000 - val_accuracy: 0.7234\n",
            "Epoch 89/100\n",
            "4/4 [==============================] - 0s 20ms/step - loss: -1874518.3750 - accuracy: 0.7016 - val_loss: -1683222.5000 - val_accuracy: 0.7234\n",
            "Epoch 90/100\n",
            "4/4 [==============================] - 0s 18ms/step - loss: -1891730.3750 - accuracy: 0.7016 - val_loss: -1699956.3750 - val_accuracy: 0.7234\n",
            "Epoch 91/100\n",
            "4/4 [==============================] - 0s 19ms/step - loss: -1910361.5000 - accuracy: 0.7016 - val_loss: -1716632.1250 - val_accuracy: 0.7234\n",
            "Epoch 92/100\n",
            "4/4 [==============================] - 0s 20ms/step - loss: -1929668.5000 - accuracy: 0.7016 - val_loss: -1733106.0000 - val_accuracy: 0.7234\n",
            "Epoch 93/100\n",
            "4/4 [==============================] - 0s 13ms/step - loss: -1948571.8750 - accuracy: 0.7016 - val_loss: -1749683.3750 - val_accuracy: 0.7234\n",
            "Epoch 94/100\n",
            "4/4 [==============================] - 0s 14ms/step - loss: -1966975.2500 - accuracy: 0.7016 - val_loss: -1766571.7500 - val_accuracy: 0.7234\n",
            "Epoch 95/100\n",
            "4/4 [==============================] - 0s 14ms/step - loss: -1985814.0000 - accuracy: 0.7016 - val_loss: -1783625.3750 - val_accuracy: 0.7234\n",
            "Epoch 96/100\n",
            "4/4 [==============================] - 0s 19ms/step - loss: -2004937.6250 - accuracy: 0.7016 - val_loss: -1800817.8750 - val_accuracy: 0.7234\n",
            "Epoch 97/100\n",
            "4/4 [==============================] - 0s 13ms/step - loss: -2024367.1250 - accuracy: 0.7016 - val_loss: -1818068.7500 - val_accuracy: 0.7234\n",
            "Epoch 98/100\n",
            "4/4 [==============================] - 0s 14ms/step - loss: -2043511.3750 - accuracy: 0.7016 - val_loss: -1835457.7500 - val_accuracy: 0.7234\n",
            "Epoch 99/100\n",
            "4/4 [==============================] - 0s 19ms/step - loss: -2062323.6250 - accuracy: 0.7016 - val_loss: -1853025.7500 - val_accuracy: 0.7234\n",
            "Epoch 100/100\n",
            "4/4 [==============================] - 0s 19ms/step - loss: -2082436.8750 - accuracy: 0.7016 - val_loss: -1870389.7500 - val_accuracy: 0.7234\n"
          ]
        }
      ]
    },
    {
      "cell_type": "code",
      "source": [
        "#Testing the model"
      ],
      "metadata": {
        "id": "hpw2uTpGZSG6"
      },
      "execution_count": null,
      "outputs": []
    },
    {
      "cell_type": "code",
      "source": [
        "DTC.predict([[50,1,1.2,0.8,150,70,80,7.2,3.4,0.8]])"
      ],
      "metadata": {
        "colab": {
          "base_uri": "https://localhost:8080/"
        },
        "id": "zc8yzGSRm6Ge",
        "outputId": "30931867-c177-484e-d823-a27cc22486d8"
      },
      "execution_count": null,
      "outputs": [
        {
          "output_type": "execute_result",
          "data": {
            "text/plain": [
              "array([2])"
            ]
          },
          "metadata": {},
          "execution_count": 107
        }
      ]
    },
    {
      "cell_type": "code",
      "source": [
        "RFmodel.predict([[50,1,1.2,0.8,150,70,80,7.2,3.4,0.8]])"
      ],
      "metadata": {
        "colab": {
          "base_uri": "https://localhost:8080/"
        },
        "id": "ObhXzBt5m7Nk",
        "outputId": "193cb1cb-65af-4946-d2ea-8147949c5c6a"
      },
      "execution_count": null,
      "outputs": [
        {
          "output_type": "execute_result",
          "data": {
            "text/plain": [
              "array([1])"
            ]
          },
          "metadata": {},
          "execution_count": 109
        }
      ]
    },
    {
      "cell_type": "code",
      "source": [
        "classifier.save(\"liver.h5\")"
      ],
      "metadata": {
        "id": "48zoPic3nCxf"
      },
      "execution_count": null,
      "outputs": []
    },
    {
      "cell_type": "code",
      "source": [
        "y_test =(y_test>0.5)\n",
        "y_test"
      ],
      "metadata": {
        "colab": {
          "base_uri": "https://localhost:8080/"
        },
        "id": "iA_QseIAnDrE",
        "outputId": "852e2612-b16e-47e9-c8ae-0b6e5d920e1a"
      },
      "execution_count": null,
      "outputs": [
        {
          "output_type": "execute_result",
          "data": {
            "text/plain": [
              "355    True\n",
              "407    True\n",
              "90     True\n",
              "402    True\n",
              "268    True\n",
              "       ... \n",
              "516    True\n",
              "305    True\n",
              "167    True\n",
              "312    True\n",
              "329    True\n",
              "Name: Dataset, Length: 117, dtype: bool"
            ]
          },
          "metadata": {},
          "execution_count": 112
        }
      ]
    },
    {
      "cell_type": "code",
      "source": [
        "def predict_exit(sample_value):\n",
        "  sample_value =np.array(sample_value)\n",
        "  sample_value =sample_value.reshape(1,-1)\n",
        "  sample_value =scale(sample_value)\n",
        "  return classifier.predict(sample_value)"
      ],
      "metadata": {
        "id": "wiV_k5OWnKXf"
      },
      "execution_count": null,
      "outputs": []
    },
    {
      "cell_type": "code",
      "source": [
        "sample_value=[[50,1,1.2,0.8,150,70,80,7.2,3.4,0.8]]\n",
        "if predict_exit(sample_value)>0.5:\n",
        "  print('Prediction: Liver Patient')\n",
        "else:\n",
        "  print('Prediction: Healthy')"
      ],
      "metadata": {
        "colab": {
          "base_uri": "https://localhost:8080/"
        },
        "id": "XtVF1p5bnNEK",
        "outputId": "660a52e5-d3b4-4a5b-d14b-6559d7e6ee54"
      },
      "execution_count": null,
      "outputs": [
        {
          "output_type": "stream",
          "name": "stdout",
          "text": [
            "1/1 [==============================] - 0s 105ms/step\n",
            "Prediction: Liver Patient\n",
            "1/1 [==============================] - 0s 24ms/step\n",
            "Prediction: Liver Patient\n"
          ]
        }
      ]
    },
    {
      "cell_type": "code",
      "source": [
        "#performance Testing& Hyperparameter tuning"
      ],
      "metadata": {
        "id": "Hjki4mwuZa6t"
      },
      "execution_count": null,
      "outputs": []
    },
    {
      "cell_type": "code",
      "source": [
        "acc_smote=[['KNN Classifier',KNN],['RandomForestClassifier',RFaccuracy],['DecisionTreeClassifier',DTCaccuracy],['LogisticRegression',LRaccuracy]]\n",
        "Liverpatient_pred=pd.DataFrame(acc_smote,columns=['classification models','accuracy_score'])\n",
        "Liverpatient_pred"
      ],
      "metadata": {
        "id": "bzeuUgponSl1"
      },
      "execution_count": null,
      "outputs": []
    },
    {
      "cell_type": "code",
      "source": [
        "plt.figure(figsize=(7,5))\n",
        "plt.xticks(rotation=90)\n",
        "plt.title('Classification models & accuracy scores after SMOTE',fontsize=18)\n",
        "sns.barplot(x=\"classification models\",y=\"accuracy_score\",data=Liverpatient_pred,palette=\"Set2\")"
      ],
      "metadata": {
        "id": "fpVuzrdFnlrX"
      },
      "execution_count": null,
      "outputs": []
    },
    {
      "cell_type": "code",
      "source": [
        "from sklearn.ensemble import ExtraTreesClassifier\n",
        "model1=ExtraTreesClassifier()\n",
        "model1.fit(x,y)"
      ],
      "metadata": {
        "id": "SCIgUNaaxedD"
      },
      "execution_count": null,
      "outputs": []
    },
    {
      "cell_type": "code",
      "source": [
        "RFmodel.feature_importances_"
      ],
      "metadata": {
        "id": "DnYVWzBMnvMj"
      },
      "execution_count": null,
      "outputs": []
    },
    {
      "cell_type": "code",
      "source": [
        "dd=pd.DataFrame(RFmodel.feature_importances_,index=x.columns).sort_values(0,ascending=False)\n",
        "dd"
      ],
      "metadata": {
        "id": "w23EZbNknzTv"
      },
      "execution_count": null,
      "outputs": []
    },
    {
      "cell_type": "code",
      "source": [
        "data.plot(kind='barh',figsize=(6,5))\n",
        "plt.title(\"FEATURE IMPORTANCE\",fontsize=14)"
      ],
      "metadata": {
        "colab": {
          "base_uri": "https://localhost:8080/",
          "height": 487
        },
        "id": "U7l_k-xPn3c8",
        "outputId": "5472cf2d-acbf-4caa-d674-8f8175cf145c"
      },
      "execution_count": null,
      "outputs": [
        {
          "output_type": "execute_result",
          "data": {
            "text/plain": [
              "Text(0.5, 1.0, 'FEATURE IMPORTANCE')"
            ]
          },
          "metadata": {},
          "execution_count": 134
        },
        {
          "output_type": "display_data",
          "data": {
            "text/plain": [
              "<Figure size 600x500 with 1 Axes>"
            ],
            "image/png": "[encoded data removed]"
          },
          "metadata": {}
        }
      ]
    },
    {
      "cell_type": "code",
      "source": [
        "#Model Deployment"
      ],
      "metadata": {
        "id": "KLcXPeuaZn_G"
      },
      "execution_count": null,
      "outputs": []
    },
    {
      "cell_type": "code",
      "source": [
        "import joblib\n",
        "joblib.dump(RFmodel,'liver_analysis_1.pkl')"
      ],
      "metadata": {
        "colab": {
          "base_uri": "https://localhost:8080/"
        },
        "id": "Hv0Y9ILMn7I6",
        "outputId": "51eebd97-18ee-4123-8d95-ad9300ad4d8c"
      },
      "execution_count": null,
      "outputs": [
        {
          "output_type": "execute_result",
          "data": {
            "text/plain": [
              "['liver_analysis_1.pkl']"
            ]
          },
          "metadata": {},
          "execution_count": 133
        }
      ]
    }
  ]
}